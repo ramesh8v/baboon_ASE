{
 "cells": [
  {
   "cell_type": "code",
   "execution_count": 1,
   "metadata": {
    "ExecuteTime": {
     "end_time": "2023-04-07T10:30:23.804402Z",
     "start_time": "2023-04-07T10:30:23.417697Z"
    },
    "collapsed": true
   },
   "outputs": [],
   "source": [
    "import numpy as np\n",
    "import pandas as pd\n",
    "from tqdm.notebook import tqdm\n",
    "tqdm.pandas()"
   ]
  },
  {
   "cell_type": "code",
   "execution_count": 2,
   "metadata": {
    "ExecuteTime": {
     "end_time": "2023-04-07T10:30:23.828155Z",
     "start_time": "2023-04-07T10:30:23.806401Z"
    },
    "collapsed": false
   },
   "outputs": [
    {
     "name": "stdout",
     "output_type": "stream",
     "text": [
      "INFO: Pandarallel will run on 6 workers.\n",
      "INFO: Pandarallel will use Memory file system to transfer data between the main process and workers.\n"
     ]
    }
   ],
   "source": [
    "from pandarallel import pandarallel\n",
    "pandarallel.initialize(progress_bar=True, nb_workers=6)"
   ]
  },
  {
   "cell_type": "code",
   "execution_count": 3,
   "metadata": {
    "ExecuteTime": {
     "end_time": "2023-04-07T10:30:53.032291Z",
     "start_time": "2023-04-07T10:30:23.830157Z"
    },
    "collapsed": false
   },
   "outputs": [],
   "source": [
    "### read the VCF file - contains data of all samples\n",
    "df = pd.read_csv(f\"../../WGS/vcf_cohorts/cohort_genotype_vcf_snps.tsv\", sep=\"\\t\")"
   ]
  },
  {
   "cell_type": "code",
   "execution_count": 4,
   "metadata": {
    "ExecuteTime": {
     "end_time": "2023-04-07T10:30:53.052301Z",
     "start_time": "2023-04-07T10:30:53.048301Z"
    },
    "collapsed": false
   },
   "outputs": [
    {
     "data": {
      "text/html": [
       "<div>\n",
       "<style scoped>\n",
       "    .dataframe tbody tr th:only-of-type {\n",
       "        vertical-align: middle;\n",
       "    }\n",
       "\n",
       "    .dataframe tbody tr th {\n",
       "        vertical-align: top;\n",
       "    }\n",
       "\n",
       "    .dataframe thead th {\n",
       "        text-align: right;\n",
       "    }\n",
       "</style>\n",
       "<table border=\"1\" class=\"dataframe\">\n",
       "  <thead>\n",
       "    <tr style=\"text-align: right;\">\n",
       "      <th></th>\n",
       "      <th>CHROM</th>\n",
       "      <th>POS</th>\n",
       "      <th>TYPE</th>\n",
       "      <th>REF</th>\n",
       "      <th>ALT</th>\n",
       "      <th>H5YTLCCXY-4_S0_L004.GT</th>\n",
       "      <th>H5YTLCCXY-5_S0_L005.GT</th>\n",
       "      <th>H5YTLCCXY-6_S0_L006.GT</th>\n",
       "      <th>H5YTLCCXY-7_S0_L007.GT</th>\n",
       "      <th>H5YTLCCXY-8_S0_L008.GT</th>\n",
       "      <th>H735GCCXY-1_S0_L001.GT</th>\n",
       "      <th>H735GCCXY-2_S0_L002.GT</th>\n",
       "      <th>H735GCCXY-3_S0_L003.GT</th>\n",
       "      <th>H735GCCXY-4_S0_L004.GT</th>\n",
       "      <th>H7WM2CCXY-2_S0_L002.GT</th>\n",
       "      <th>H7WM2CCXY-3_S0_L003.GT</th>\n",
       "      <th>H7WM2CCXY-8_S0_L008.GT</th>\n",
       "    </tr>\n",
       "  </thead>\n",
       "  <tbody>\n",
       "    <tr>\n",
       "      <th>0</th>\n",
       "      <td>NC_044976.1</td>\n",
       "      <td>48</td>\n",
       "      <td>SNP</td>\n",
       "      <td>C</td>\n",
       "      <td>G</td>\n",
       "      <td>C/C</td>\n",
       "      <td>C/G</td>\n",
       "      <td>C/C</td>\n",
       "      <td>C/C</td>\n",
       "      <td>C/C</td>\n",
       "      <td>C/C</td>\n",
       "      <td>C/C</td>\n",
       "      <td>C/G</td>\n",
       "      <td>C/C</td>\n",
       "      <td>C/C</td>\n",
       "      <td>C/C</td>\n",
       "      <td>C/G</td>\n",
       "    </tr>\n",
       "    <tr>\n",
       "      <th>1</th>\n",
       "      <td>NC_044976.1</td>\n",
       "      <td>92</td>\n",
       "      <td>SNP</td>\n",
       "      <td>G</td>\n",
       "      <td>A</td>\n",
       "      <td>G/G</td>\n",
       "      <td>G/A</td>\n",
       "      <td>G/G</td>\n",
       "      <td>G/G</td>\n",
       "      <td>G/G</td>\n",
       "      <td>G/G</td>\n",
       "      <td>G/G</td>\n",
       "      <td>G/A</td>\n",
       "      <td>G/G</td>\n",
       "      <td>G/G</td>\n",
       "      <td>G/G</td>\n",
       "      <td>G/A</td>\n",
       "    </tr>\n",
       "    <tr>\n",
       "      <th>2</th>\n",
       "      <td>NC_044976.1</td>\n",
       "      <td>101</td>\n",
       "      <td>SNP</td>\n",
       "      <td>T</td>\n",
       "      <td>C</td>\n",
       "      <td>T/T</td>\n",
       "      <td>T/T</td>\n",
       "      <td>T/T</td>\n",
       "      <td>T/T</td>\n",
       "      <td>T/T</td>\n",
       "      <td>T/T</td>\n",
       "      <td>T/T</td>\n",
       "      <td>T/C</td>\n",
       "      <td>T/T</td>\n",
       "      <td>T/T</td>\n",
       "      <td>T/T</td>\n",
       "      <td>T/T</td>\n",
       "    </tr>\n",
       "    <tr>\n",
       "      <th>3</th>\n",
       "      <td>NC_044976.1</td>\n",
       "      <td>148</td>\n",
       "      <td>SNP</td>\n",
       "      <td>C</td>\n",
       "      <td>A</td>\n",
       "      <td>C/C</td>\n",
       "      <td>C/C</td>\n",
       "      <td>C/C</td>\n",
       "      <td>C/C</td>\n",
       "      <td>C/C</td>\n",
       "      <td>C/C</td>\n",
       "      <td>C/C</td>\n",
       "      <td>C/A</td>\n",
       "      <td>C/C</td>\n",
       "      <td>C/C</td>\n",
       "      <td>C/C</td>\n",
       "      <td>C/A</td>\n",
       "    </tr>\n",
       "    <tr>\n",
       "      <th>4</th>\n",
       "      <td>NC_044976.1</td>\n",
       "      <td>188</td>\n",
       "      <td>SNP</td>\n",
       "      <td>T</td>\n",
       "      <td>C</td>\n",
       "      <td>T|C</td>\n",
       "      <td>T|C</td>\n",
       "      <td>T/T</td>\n",
       "      <td>T/T</td>\n",
       "      <td>T/T</td>\n",
       "      <td>T/T</td>\n",
       "      <td>T/T</td>\n",
       "      <td>T|C</td>\n",
       "      <td>T/T</td>\n",
       "      <td>T/T</td>\n",
       "      <td>T/T</td>\n",
       "      <td>T|C</td>\n",
       "    </tr>\n",
       "  </tbody>\n",
       "</table>\n",
       "</div>"
      ],
      "text/plain": [
       "         CHROM  POS TYPE REF ALT H5YTLCCXY-4_S0_L004.GT  \\\n",
       "0  NC_044976.1   48  SNP   C   G                    C/C   \n",
       "1  NC_044976.1   92  SNP   G   A                    G/G   \n",
       "2  NC_044976.1  101  SNP   T   C                    T/T   \n",
       "3  NC_044976.1  148  SNP   C   A                    C/C   \n",
       "4  NC_044976.1  188  SNP   T   C                    T|C   \n",
       "\n",
       "  H5YTLCCXY-5_S0_L005.GT H5YTLCCXY-6_S0_L006.GT H5YTLCCXY-7_S0_L007.GT  \\\n",
       "0                    C/G                    C/C                    C/C   \n",
       "1                    G/A                    G/G                    G/G   \n",
       "2                    T/T                    T/T                    T/T   \n",
       "3                    C/C                    C/C                    C/C   \n",
       "4                    T|C                    T/T                    T/T   \n",
       "\n",
       "  H5YTLCCXY-8_S0_L008.GT H735GCCXY-1_S0_L001.GT H735GCCXY-2_S0_L002.GT  \\\n",
       "0                    C/C                    C/C                    C/C   \n",
       "1                    G/G                    G/G                    G/G   \n",
       "2                    T/T                    T/T                    T/T   \n",
       "3                    C/C                    C/C                    C/C   \n",
       "4                    T/T                    T/T                    T/T   \n",
       "\n",
       "  H735GCCXY-3_S0_L003.GT H735GCCXY-4_S0_L004.GT H7WM2CCXY-2_S0_L002.GT  \\\n",
       "0                    C/G                    C/C                    C/C   \n",
       "1                    G/A                    G/G                    G/G   \n",
       "2                    T/C                    T/T                    T/T   \n",
       "3                    C/A                    C/C                    C/C   \n",
       "4                    T|C                    T/T                    T/T   \n",
       "\n",
       "  H7WM2CCXY-3_S0_L003.GT H7WM2CCXY-8_S0_L008.GT  \n",
       "0                    C/C                    C/G  \n",
       "1                    G/G                    G/A  \n",
       "2                    T/T                    T/T  \n",
       "3                    C/C                    C/A  \n",
       "4                    T/T                    T|C  "
      ]
     },
     "execution_count": 4,
     "metadata": {},
     "output_type": "execute_result"
    }
   ],
   "source": [
    "df.head()"
   ]
  },
  {
   "cell_type": "code",
   "execution_count": 5,
   "metadata": {
    "ExecuteTime": {
     "end_time": "2023-04-07T10:30:53.130303Z",
     "start_time": "2023-04-07T10:30:53.104301Z"
    },
    "collapsed": false
   },
   "outputs": [],
   "source": [
    "sample_map = {}\n",
    "with open(\"../../sample_name_mapping.csv\", \"r\") as f:\n",
    "    for lines in f:\n",
    "        lines = lines.strip().split(\",\")\n",
    "        sample_map[lines[1]] = lines[0]"
   ]
  },
  {
   "cell_type": "code",
   "execution_count": 6,
   "metadata": {
    "ExecuteTime": {
     "end_time": "2023-04-07T10:30:53.130303Z",
     "start_time": "2023-04-07T10:30:53.110303Z"
    },
    "collapsed": false
   },
   "outputs": [],
   "source": [
    "cols = {i: sample_map[i.split(\"_S\")[0]] for i in df.columns if i.startswith(\"H\")}"
   ]
  },
  {
   "cell_type": "code",
   "execution_count": 7,
   "metadata": {
    "ExecuteTime": {
     "end_time": "2023-04-07T10:30:53.130303Z",
     "start_time": "2023-04-07T10:30:53.110303Z"
    },
    "collapsed": false
   },
   "outputs": [],
   "source": [
    "## rename the samples\n",
    "df.rename(columns=cols, inplace=True)"
   ]
  },
  {
   "cell_type": "code",
   "execution_count": 8,
   "metadata": {
    "ExecuteTime": {
     "end_time": "2023-04-07T10:30:53.130303Z",
     "start_time": "2023-04-07T10:30:53.121301Z"
    },
    "collapsed": false
   },
   "outputs": [],
   "source": [
    "## read in refseqid to chromosome name mapping\n",
    "chr_name_map = {}\n",
    "with open(\"../../reseq_to_chr_names.txt\", 'r') as f:\n",
    "    for lines in f:\n",
    "        lines = lines.strip().split(\"\\t\")\n",
    "        chr_name_map[lines[1]] = lines[0]"
   ]
  },
  {
   "cell_type": "code",
   "execution_count": 9,
   "metadata": {
    "ExecuteTime": {
     "end_time": "2023-04-07T10:30:57.429671Z",
     "start_time": "2023-04-07T10:30:53.121301Z"
    },
    "collapsed": false
   },
   "outputs": [],
   "source": [
    "df =df[df['CHROM'].isin(chr_name_map)]"
   ]
  },
  {
   "cell_type": "code",
   "execution_count": 10,
   "metadata": {
    "ExecuteTime": {
     "end_time": "2023-04-07T10:31:00.413143Z",
     "start_time": "2023-04-07T10:30:57.468671Z"
    },
    "collapsed": false
   },
   "outputs": [],
   "source": [
    "df.rename(columns={\"CHROM\":\"refseqid\"}, inplace=True)\n",
    "df['CHROM'] = df['refseqid'].apply(lambda x: chr_name_map[x])"
   ]
  },
  {
   "cell_type": "code",
   "execution_count": 11,
   "metadata": {
    "ExecuteTime": {
     "end_time": "2023-04-07T10:31:00.419145Z",
     "start_time": "2023-04-07T10:31:00.415143Z"
    },
    "collapsed": false
   },
   "outputs": [
    {
     "data": {
      "text/plain": [
       "(17046278, 18)"
      ]
     },
     "execution_count": 11,
     "metadata": {},
     "output_type": "execute_result"
    }
   ],
   "source": [
    "df.shape"
   ]
  },
  {
   "cell_type": "code",
   "execution_count": 12,
   "metadata": {
    "ExecuteTime": {
     "end_time": "2023-04-07T10:31:00.491990Z",
     "start_time": "2023-04-07T10:31:00.491990Z"
    },
    "collapsed": false
   },
   "outputs": [
    {
     "data": {
      "text/html": [
       "<div>\n",
       "<style scoped>\n",
       "    .dataframe tbody tr th:only-of-type {\n",
       "        vertical-align: middle;\n",
       "    }\n",
       "\n",
       "    .dataframe tbody tr th {\n",
       "        vertical-align: top;\n",
       "    }\n",
       "\n",
       "    .dataframe thead th {\n",
       "        text-align: right;\n",
       "    }\n",
       "</style>\n",
       "<table border=\"1\" class=\"dataframe\">\n",
       "  <thead>\n",
       "    <tr style=\"text-align: right;\">\n",
       "      <th></th>\n",
       "      <th>refseqid</th>\n",
       "      <th>POS</th>\n",
       "      <th>TYPE</th>\n",
       "      <th>REF</th>\n",
       "      <th>ALT</th>\n",
       "      <th>ZT8</th>\n",
       "      <th>ZT14</th>\n",
       "      <th>ZT0</th>\n",
       "      <th>ZT16</th>\n",
       "      <th>ZT2</th>\n",
       "      <th>ZT12</th>\n",
       "      <th>ZT18</th>\n",
       "      <th>ZT4</th>\n",
       "      <th>ZT20</th>\n",
       "      <th>ZT6</th>\n",
       "      <th>ZT22</th>\n",
       "      <th>ZT10</th>\n",
       "      <th>CHROM</th>\n",
       "    </tr>\n",
       "  </thead>\n",
       "  <tbody>\n",
       "    <tr>\n",
       "      <th>0</th>\n",
       "      <td>NC_044976.1</td>\n",
       "      <td>48</td>\n",
       "      <td>SNP</td>\n",
       "      <td>C</td>\n",
       "      <td>G</td>\n",
       "      <td>C/C</td>\n",
       "      <td>C/G</td>\n",
       "      <td>C/C</td>\n",
       "      <td>C/C</td>\n",
       "      <td>C/C</td>\n",
       "      <td>C/C</td>\n",
       "      <td>C/C</td>\n",
       "      <td>C/G</td>\n",
       "      <td>C/C</td>\n",
       "      <td>C/C</td>\n",
       "      <td>C/C</td>\n",
       "      <td>C/G</td>\n",
       "      <td>1</td>\n",
       "    </tr>\n",
       "    <tr>\n",
       "      <th>1</th>\n",
       "      <td>NC_044976.1</td>\n",
       "      <td>92</td>\n",
       "      <td>SNP</td>\n",
       "      <td>G</td>\n",
       "      <td>A</td>\n",
       "      <td>G/G</td>\n",
       "      <td>G/A</td>\n",
       "      <td>G/G</td>\n",
       "      <td>G/G</td>\n",
       "      <td>G/G</td>\n",
       "      <td>G/G</td>\n",
       "      <td>G/G</td>\n",
       "      <td>G/A</td>\n",
       "      <td>G/G</td>\n",
       "      <td>G/G</td>\n",
       "      <td>G/G</td>\n",
       "      <td>G/A</td>\n",
       "      <td>1</td>\n",
       "    </tr>\n",
       "    <tr>\n",
       "      <th>2</th>\n",
       "      <td>NC_044976.1</td>\n",
       "      <td>101</td>\n",
       "      <td>SNP</td>\n",
       "      <td>T</td>\n",
       "      <td>C</td>\n",
       "      <td>T/T</td>\n",
       "      <td>T/T</td>\n",
       "      <td>T/T</td>\n",
       "      <td>T/T</td>\n",
       "      <td>T/T</td>\n",
       "      <td>T/T</td>\n",
       "      <td>T/T</td>\n",
       "      <td>T/C</td>\n",
       "      <td>T/T</td>\n",
       "      <td>T/T</td>\n",
       "      <td>T/T</td>\n",
       "      <td>T/T</td>\n",
       "      <td>1</td>\n",
       "    </tr>\n",
       "    <tr>\n",
       "      <th>3</th>\n",
       "      <td>NC_044976.1</td>\n",
       "      <td>148</td>\n",
       "      <td>SNP</td>\n",
       "      <td>C</td>\n",
       "      <td>A</td>\n",
       "      <td>C/C</td>\n",
       "      <td>C/C</td>\n",
       "      <td>C/C</td>\n",
       "      <td>C/C</td>\n",
       "      <td>C/C</td>\n",
       "      <td>C/C</td>\n",
       "      <td>C/C</td>\n",
       "      <td>C/A</td>\n",
       "      <td>C/C</td>\n",
       "      <td>C/C</td>\n",
       "      <td>C/C</td>\n",
       "      <td>C/A</td>\n",
       "      <td>1</td>\n",
       "    </tr>\n",
       "    <tr>\n",
       "      <th>4</th>\n",
       "      <td>NC_044976.1</td>\n",
       "      <td>188</td>\n",
       "      <td>SNP</td>\n",
       "      <td>T</td>\n",
       "      <td>C</td>\n",
       "      <td>T|C</td>\n",
       "      <td>T|C</td>\n",
       "      <td>T/T</td>\n",
       "      <td>T/T</td>\n",
       "      <td>T/T</td>\n",
       "      <td>T/T</td>\n",
       "      <td>T/T</td>\n",
       "      <td>T|C</td>\n",
       "      <td>T/T</td>\n",
       "      <td>T/T</td>\n",
       "      <td>T/T</td>\n",
       "      <td>T|C</td>\n",
       "      <td>1</td>\n",
       "    </tr>\n",
       "  </tbody>\n",
       "</table>\n",
       "</div>"
      ],
      "text/plain": [
       "      refseqid  POS TYPE REF ALT  ZT8 ZT14  ZT0 ZT16  ZT2 ZT12 ZT18  ZT4 ZT20  \\\n",
       "0  NC_044976.1   48  SNP   C   G  C/C  C/G  C/C  C/C  C/C  C/C  C/C  C/G  C/C   \n",
       "1  NC_044976.1   92  SNP   G   A  G/G  G/A  G/G  G/G  G/G  G/G  G/G  G/A  G/G   \n",
       "2  NC_044976.1  101  SNP   T   C  T/T  T/T  T/T  T/T  T/T  T/T  T/T  T/C  T/T   \n",
       "3  NC_044976.1  148  SNP   C   A  C/C  C/C  C/C  C/C  C/C  C/C  C/C  C/A  C/C   \n",
       "4  NC_044976.1  188  SNP   T   C  T|C  T|C  T/T  T/T  T/T  T/T  T/T  T|C  T/T   \n",
       "\n",
       "   ZT6 ZT22 ZT10 CHROM  \n",
       "0  C/C  C/C  C/G     1  \n",
       "1  G/G  G/G  G/A     1  \n",
       "2  T/T  T/T  T/T     1  \n",
       "3  C/C  C/C  C/A     1  \n",
       "4  T/T  T/T  T|C     1  "
      ]
     },
     "execution_count": 12,
     "metadata": {},
     "output_type": "execute_result"
    }
   ],
   "source": [
    "df.head()"
   ]
  },
  {
   "cell_type": "markdown",
   "metadata": {
    "collapsed": false
   },
   "source": [
    "### Now drop unnecessary columns to make the df lighter to work with"
   ]
  },
  {
   "cell_type": "code",
   "execution_count": 13,
   "metadata": {
    "ExecuteTime": {
     "end_time": "2023-04-07T10:31:00.491990Z",
     "start_time": "2023-04-07T10:31:00.491990Z"
    },
    "collapsed": false
   },
   "outputs": [],
   "source": [
    "samples = [f\"ZT{i}\" for i in range(23) if i%2==0]\n",
    "def count_alleles(x):\n",
    "    return len(set([i for zt in x[samples] for i in zt.replace(\"|\", \"/\").split(\"/\")]))"
   ]
  },
  {
   "cell_type": "code",
   "execution_count": 14,
   "metadata": {
    "ExecuteTime": {
     "end_time": "2023-04-07T10:48:54.561298Z",
     "start_time": "2023-04-07T10:31:00.491990Z"
    },
    "collapsed": false
   },
   "outputs": [
    {
     "data": {
      "application/vnd.jupyter.widget-view+json": {
       "model_id": "852b84299a8f4971ba26d0e81039c512",
       "version_major": 2,
       "version_minor": 0
      },
      "text/plain": [
       "VBox(children=(HBox(children=(IntProgress(value=0, description='0.00%', max=2841047), Label(value='0 / 2841047…"
      ]
     },
     "metadata": {},
     "output_type": "display_data"
    }
   ],
   "source": [
    "df['#alleles'] = df.parallel_apply(count_alleles, axis=1)"
   ]
  },
  {
   "cell_type": "code",
   "execution_count": 15,
   "metadata": {
    "ExecuteTime": {
     "end_time": "2023-04-07T10:48:56.948479Z",
     "start_time": "2023-04-07T10:48:56.938477Z"
    },
    "collapsed": false
   },
   "outputs": [
    {
     "data": {
      "text/html": [
       "<div>\n",
       "<style scoped>\n",
       "    .dataframe tbody tr th:only-of-type {\n",
       "        vertical-align: middle;\n",
       "    }\n",
       "\n",
       "    .dataframe tbody tr th {\n",
       "        vertical-align: top;\n",
       "    }\n",
       "\n",
       "    .dataframe thead th {\n",
       "        text-align: right;\n",
       "    }\n",
       "</style>\n",
       "<table border=\"1\" class=\"dataframe\">\n",
       "  <thead>\n",
       "    <tr style=\"text-align: right;\">\n",
       "      <th></th>\n",
       "      <th>refseqid</th>\n",
       "      <th>POS</th>\n",
       "      <th>TYPE</th>\n",
       "      <th>REF</th>\n",
       "      <th>ALT</th>\n",
       "      <th>ZT8</th>\n",
       "      <th>ZT14</th>\n",
       "      <th>ZT0</th>\n",
       "      <th>ZT16</th>\n",
       "      <th>ZT2</th>\n",
       "      <th>ZT12</th>\n",
       "      <th>ZT18</th>\n",
       "      <th>ZT4</th>\n",
       "      <th>ZT20</th>\n",
       "      <th>ZT6</th>\n",
       "      <th>ZT22</th>\n",
       "      <th>ZT10</th>\n",
       "      <th>CHROM</th>\n",
       "      <th>#alleles</th>\n",
       "    </tr>\n",
       "  </thead>\n",
       "  <tbody>\n",
       "    <tr>\n",
       "      <th>0</th>\n",
       "      <td>NC_044976.1</td>\n",
       "      <td>48</td>\n",
       "      <td>SNP</td>\n",
       "      <td>C</td>\n",
       "      <td>G</td>\n",
       "      <td>C/C</td>\n",
       "      <td>C/G</td>\n",
       "      <td>C/C</td>\n",
       "      <td>C/C</td>\n",
       "      <td>C/C</td>\n",
       "      <td>C/C</td>\n",
       "      <td>C/C</td>\n",
       "      <td>C/G</td>\n",
       "      <td>C/C</td>\n",
       "      <td>C/C</td>\n",
       "      <td>C/C</td>\n",
       "      <td>C/G</td>\n",
       "      <td>1</td>\n",
       "      <td>2</td>\n",
       "    </tr>\n",
       "    <tr>\n",
       "      <th>1</th>\n",
       "      <td>NC_044976.1</td>\n",
       "      <td>92</td>\n",
       "      <td>SNP</td>\n",
       "      <td>G</td>\n",
       "      <td>A</td>\n",
       "      <td>G/G</td>\n",
       "      <td>G/A</td>\n",
       "      <td>G/G</td>\n",
       "      <td>G/G</td>\n",
       "      <td>G/G</td>\n",
       "      <td>G/G</td>\n",
       "      <td>G/G</td>\n",
       "      <td>G/A</td>\n",
       "      <td>G/G</td>\n",
       "      <td>G/G</td>\n",
       "      <td>G/G</td>\n",
       "      <td>G/A</td>\n",
       "      <td>1</td>\n",
       "      <td>2</td>\n",
       "    </tr>\n",
       "  </tbody>\n",
       "</table>\n",
       "</div>"
      ],
      "text/plain": [
       "      refseqid  POS TYPE REF ALT  ZT8 ZT14  ZT0 ZT16  ZT2 ZT12 ZT18  ZT4 ZT20  \\\n",
       "0  NC_044976.1   48  SNP   C   G  C/C  C/G  C/C  C/C  C/C  C/C  C/C  C/G  C/C   \n",
       "1  NC_044976.1   92  SNP   G   A  G/G  G/A  G/G  G/G  G/G  G/G  G/G  G/A  G/G   \n",
       "\n",
       "   ZT6 ZT22 ZT10 CHROM  #alleles  \n",
       "0  C/C  C/C  C/G     1         2  \n",
       "1  G/G  G/G  G/A     1         2  "
      ]
     },
     "execution_count": 15,
     "metadata": {},
     "output_type": "execute_result"
    }
   ],
   "source": [
    "df.head(2)"
   ]
  },
  {
   "cell_type": "code",
   "execution_count": 16,
   "metadata": {
    "ExecuteTime": {
     "end_time": "2023-04-07T10:49:21.667092Z",
     "start_time": "2023-04-07T10:49:21.531089Z"
    },
    "collapsed": false
   },
   "outputs": [
    {
     "data": {
      "text/plain": [
       "2    16182685\n",
       "3      537393\n",
       "1      282303\n",
       "4       43373\n",
       "5         516\n",
       "6           8\n",
       "Name: #alleles, dtype: int64"
      ]
     },
     "execution_count": 16,
     "metadata": {},
     "output_type": "execute_result"
    }
   ],
   "source": [
    "df['#alleles'].value_counts()"
   ]
  },
  {
   "cell_type": "code",
   "execution_count": null,
   "metadata": {
    "collapsed": false
   },
   "outputs": [],
   "source": []
  }
 ],
 "metadata": {
  "kernelspec": {
   "display_name": "Python 3",
   "language": "python",
   "name": "python3"
  },
  "language_info": {
   "codemirror_mode": {
    "name": "ipython",
    "version": 2
   },
   "file_extension": ".py",
   "mimetype": "text/x-python",
   "name": "python",
   "nbconvert_exporter": "python",
   "pygments_lexer": "ipython2",
   "version": "2.7.6"
  }
 },
 "nbformat": 4,
 "nbformat_minor": 0
}
