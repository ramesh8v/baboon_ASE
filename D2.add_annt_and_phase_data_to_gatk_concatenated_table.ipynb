{
 "cells": [
  {
   "cell_type": "markdown",
   "metadata": {
    "collapsed": false
   },
   "source": [
    "### Add annotation data to the concatenated data\n",
    "P.S: only annotation data is added, but not phase data"
   ]
  },
  {
   "cell_type": "code",
   "execution_count": 1,
   "metadata": {
    "collapsed": false
   },
   "outputs": [],
   "source": [
    "import numpy as np\n",
    "import pandas as pd\n",
    "from pandarallel import pandarallel"
   ]
  },
  {
   "cell_type": "code",
   "execution_count": 2,
   "metadata": {
    "collapsed": false
   },
   "outputs": [
    {
     "name": "stdout",
     "output_type": "stream",
     "text": [
      "INFO: Pandarallel will run on 8 workers.\n",
      "INFO: Pandarallel will use Memory file system to transfer data between the main process and workers.\n"
     ]
    }
   ],
   "source": [
    "import warnings\n",
    "warnings.filterwarnings(\"ignore\")\n",
    "pandarallel.initialize(progress_bar=False)"
   ]
  },
  {
   "cell_type": "code",
   "execution_count": 3,
   "metadata": {
    "collapsed": false
   },
   "outputs": [],
   "source": [
    "df = pd.read_parquet(\"./data_files/concatenated_data/gatk_all_samples_concatenated.parquet\")"
   ]
  },
  {
   "cell_type": "code",
   "execution_count": 4,
   "metadata": {
    "collapsed": false
   },
   "outputs": [
    {
     "data": {
      "text/html": [
       "<div>\n",
       "<style scoped>\n",
       "    .dataframe tbody tr th:only-of-type {\n",
       "        vertical-align: middle;\n",
       "    }\n",
       "\n",
       "    .dataframe tbody tr th {\n",
       "        vertical-align: top;\n",
       "    }\n",
       "\n",
       "    .dataframe thead th {\n",
       "        text-align: right;\n",
       "    }\n",
       "</style>\n",
       "<table border=\"1\" class=\"dataframe\">\n",
       "  <thead>\n",
       "    <tr style=\"text-align: right;\">\n",
       "      <th></th>\n",
       "      <th>tissue</th>\n",
       "      <th>timepoint</th>\n",
       "      <th>loci</th>\n",
       "      <th>refCount</th>\n",
       "      <th>altCount</th>\n",
       "      <th>totalCount</th>\n",
       "      <th>refBias</th>\n",
       "      <th>binomTest</th>\n",
       "      <th>fdr</th>\n",
       "    </tr>\n",
       "  </thead>\n",
       "  <tbody>\n",
       "    <tr>\n",
       "      <th>0</th>\n",
       "      <td>HIP</td>\n",
       "      <td>ZT0</td>\n",
       "      <td>NC_044976.1:204</td>\n",
       "      <td>1</td>\n",
       "      <td>17</td>\n",
       "      <td>18</td>\n",
       "      <td>0.055556</td>\n",
       "      <td>0.000145</td>\n",
       "      <td>0.012577</td>\n",
       "    </tr>\n",
       "    <tr>\n",
       "      <th>1</th>\n",
       "      <td>HIP</td>\n",
       "      <td>ZT0</td>\n",
       "      <td>NC_044976.1:4126</td>\n",
       "      <td>1</td>\n",
       "      <td>0</td>\n",
       "      <td>1</td>\n",
       "      <td>1.000000</td>\n",
       "      <td>1.000000</td>\n",
       "      <td>1.000000</td>\n",
       "    </tr>\n",
       "    <tr>\n",
       "      <th>2</th>\n",
       "      <td>HIP</td>\n",
       "      <td>ZT0</td>\n",
       "      <td>NC_044976.1:4522</td>\n",
       "      <td>0</td>\n",
       "      <td>1</td>\n",
       "      <td>1</td>\n",
       "      <td>0.000000</td>\n",
       "      <td>1.000000</td>\n",
       "      <td>1.000000</td>\n",
       "    </tr>\n",
       "  </tbody>\n",
       "</table>\n",
       "</div>"
      ],
      "text/plain": [
       "  tissue timepoint              loci  refCount  altCount  totalCount  \\\n",
       "0    HIP       ZT0   NC_044976.1:204         1        17          18   \n",
       "1    HIP       ZT0  NC_044976.1:4126         1         0           1   \n",
       "2    HIP       ZT0  NC_044976.1:4522         0         1           1   \n",
       "\n",
       "    refBias  binomTest       fdr  \n",
       "0  0.055556   0.000145  0.012577  \n",
       "1  1.000000   1.000000  1.000000  \n",
       "2  0.000000   1.000000  1.000000  "
      ]
     },
     "execution_count": 4,
     "metadata": {},
     "output_type": "execute_result"
    }
   ],
   "source": [
    "df.head(3)"
   ]
  },
  {
   "cell_type": "code",
   "execution_count": 5,
   "metadata": {
    "collapsed": false
   },
   "outputs": [
    {
     "data": {
      "text/html": [
       "<div>\n",
       "<style scoped>\n",
       "    .dataframe tbody tr th:only-of-type {\n",
       "        vertical-align: middle;\n",
       "    }\n",
       "\n",
       "    .dataframe tbody tr th {\n",
       "        vertical-align: top;\n",
       "    }\n",
       "\n",
       "    .dataframe thead th {\n",
       "        text-align: right;\n",
       "    }\n",
       "</style>\n",
       "<table border=\"1\" class=\"dataframe\">\n",
       "  <thead>\n",
       "    <tr style=\"text-align: right;\">\n",
       "      <th></th>\n",
       "      <th>CHROM</th>\n",
       "      <th>POS</th>\n",
       "      <th>REF</th>\n",
       "      <th>ALT</th>\n",
       "      <th>FILTER</th>\n",
       "      <th>ANN[*].ALLELE</th>\n",
       "      <th>ANN[*].EFFECT</th>\n",
       "      <th>ANN[*].IMPACT</th>\n",
       "      <th>ANN[*].GENE</th>\n",
       "      <th>ANN[*].GENEID</th>\n",
       "      <th>ANN[*].FEATURE</th>\n",
       "      <th>ANN[*].FEATUREID</th>\n",
       "      <th>ANN[*].BIOTYPE</th>\n",
       "    </tr>\n",
       "  </thead>\n",
       "  <tbody>\n",
       "    <tr>\n",
       "      <th>0</th>\n",
       "      <td>NC_044976.1</td>\n",
       "      <td>204</td>\n",
       "      <td>T</td>\n",
       "      <td>A</td>\n",
       "      <td>PASS</td>\n",
       "      <td>.</td>\n",
       "      <td>.</td>\n",
       "      <td>.</td>\n",
       "      <td>.</td>\n",
       "      <td>.</td>\n",
       "      <td>.</td>\n",
       "      <td>.</td>\n",
       "      <td>.</td>\n",
       "    </tr>\n",
       "    <tr>\n",
       "      <th>1</th>\n",
       "      <td>NC_044976.1</td>\n",
       "      <td>441</td>\n",
       "      <td>G</td>\n",
       "      <td>C</td>\n",
       "      <td>PASS</td>\n",
       "      <td>.</td>\n",
       "      <td>.</td>\n",
       "      <td>.</td>\n",
       "      <td>.</td>\n",
       "      <td>.</td>\n",
       "      <td>.</td>\n",
       "      <td>.</td>\n",
       "      <td>.</td>\n",
       "    </tr>\n",
       "  </tbody>\n",
       "</table>\n",
       "</div>"
      ],
      "text/plain": [
       "         CHROM  POS REF ALT FILTER ANN[*].ALLELE ANN[*].EFFECT ANN[*].IMPACT  \\\n",
       "0  NC_044976.1  204   T   A   PASS             .             .             .   \n",
       "1  NC_044976.1  441   G   C   PASS             .             .             .   \n",
       "\n",
       "  ANN[*].GENE ANN[*].GENEID ANN[*].FEATURE ANN[*].FEATUREID ANN[*].BIOTYPE  \n",
       "0           .             .              .                .              .  \n",
       "1           .             .              .                .              .  "
      ]
     },
     "execution_count": 5,
     "metadata": {},
     "output_type": "execute_result"
    }
   ],
   "source": [
    "## read the annotation data\n",
    "annt = pd.read_csv(f'../../wasp_rerun_june22/experiment_code/vcfs_annotated_with_snpeff_all/ZT0_snpeff_extracted.txt', sep=\"\\t\")\n",
    "annt.head(2)"
   ]
  },
  {
   "cell_type": "code",
   "execution_count": 6,
   "metadata": {
    "collapsed": false
   },
   "outputs": [
    {
     "name": "stdout",
     "output_type": "stream",
     "text": [
      "Running ZT0\n",
      "Running ZT2\n",
      "Running ZT4\n",
      "Running ZT6\n",
      "Running ZT8\n",
      "Running ZT10\n",
      "Running ZT12\n",
      "Running ZT14\n",
      "Running ZT16\n",
      "Running ZT18\n",
      "Running ZT20\n",
      "Running ZT22\n"
     ]
    }
   ],
   "source": [
    "## read the annotation data and add to the concatenated GATK counts\n",
    "for idx, timepoint in enumerate(df['timepoint'].unique()):\n",
    "    print(f\"Running {timepoint}\")\n",
    "    snv = df[df['timepoint']==timepoint]\n",
    "    annt = pd.read_csv(f'../../wasp_rerun_june22/experiment_code/vcfs_annotated_with_snpeff_all/{timepoint}_snpeff_extracted.txt', sep=\"\\t\")\n",
    "    # create loci column\n",
    "    annt['loci'] = annt['CHROM'].astype(str) + ':' + annt['POS'].astype(str)\n",
    "    annt1 = annt[['loci', 'REF', 'ALT', \"ANN[*].ALLELE\", \"ANN[*].EFFECT\", \"ANN[*].IMPACT\", \"ANN[*].GENE\", \"ANN[*].FEATURE\", \"ANN[*].BIOTYPE\"]]\n",
    "\n",
    "    # merge with snp data\n",
    "    snv = snv.merge(annt1, on='loci', how='left')\n",
    "    if idx == 0:\n",
    "        df_fi = snv\n",
    "    else:\n",
    "        df_fi = df_fi.append(snv)"
   ]
  },
  {
   "cell_type": "code",
   "execution_count": 7,
   "metadata": {
    "collapsed": false
   },
   "outputs": [
    {
     "data": {
      "text/html": [
       "<div>\n",
       "<style scoped>\n",
       "    .dataframe tbody tr th:only-of-type {\n",
       "        vertical-align: middle;\n",
       "    }\n",
       "\n",
       "    .dataframe tbody tr th {\n",
       "        vertical-align: top;\n",
       "    }\n",
       "\n",
       "    .dataframe thead th {\n",
       "        text-align: right;\n",
       "    }\n",
       "</style>\n",
       "<table border=\"1\" class=\"dataframe\">\n",
       "  <thead>\n",
       "    <tr style=\"text-align: right;\">\n",
       "      <th></th>\n",
       "      <th>tissue</th>\n",
       "      <th>timepoint</th>\n",
       "      <th>loci</th>\n",
       "      <th>refCount</th>\n",
       "      <th>altCount</th>\n",
       "      <th>totalCount</th>\n",
       "      <th>refBias</th>\n",
       "      <th>binomTest</th>\n",
       "      <th>fdr</th>\n",
       "      <th>REF</th>\n",
       "      <th>ALT</th>\n",
       "      <th>ANN[*].ALLELE</th>\n",
       "      <th>ANN[*].EFFECT</th>\n",
       "      <th>ANN[*].IMPACT</th>\n",
       "      <th>ANN[*].GENE</th>\n",
       "      <th>ANN[*].FEATURE</th>\n",
       "      <th>ANN[*].BIOTYPE</th>\n",
       "    </tr>\n",
       "  </thead>\n",
       "  <tbody>\n",
       "    <tr>\n",
       "      <th>0</th>\n",
       "      <td>HIP</td>\n",
       "      <td>ZT0</td>\n",
       "      <td>NC_044976.1:204</td>\n",
       "      <td>1</td>\n",
       "      <td>17</td>\n",
       "      <td>18</td>\n",
       "      <td>0.055556</td>\n",
       "      <td>0.000145</td>\n",
       "      <td>0.012577</td>\n",
       "      <td>T</td>\n",
       "      <td>A</td>\n",
       "      <td>.</td>\n",
       "      <td>.</td>\n",
       "      <td>.</td>\n",
       "      <td>.</td>\n",
       "      <td>.</td>\n",
       "      <td>.</td>\n",
       "    </tr>\n",
       "    <tr>\n",
       "      <th>1</th>\n",
       "      <td>HIP</td>\n",
       "      <td>ZT0</td>\n",
       "      <td>NC_044976.1:4126</td>\n",
       "      <td>1</td>\n",
       "      <td>0</td>\n",
       "      <td>1</td>\n",
       "      <td>1.000000</td>\n",
       "      <td>1.000000</td>\n",
       "      <td>1.000000</td>\n",
       "      <td>G</td>\n",
       "      <td>A</td>\n",
       "      <td>.</td>\n",
       "      <td>.</td>\n",
       "      <td>.</td>\n",
       "      <td>.</td>\n",
       "      <td>.</td>\n",
       "      <td>.</td>\n",
       "    </tr>\n",
       "  </tbody>\n",
       "</table>\n",
       "</div>"
      ],
      "text/plain": [
       "  tissue timepoint              loci  refCount  altCount  totalCount  \\\n",
       "0    HIP       ZT0   NC_044976.1:204         1        17          18   \n",
       "1    HIP       ZT0  NC_044976.1:4126         1         0           1   \n",
       "\n",
       "    refBias  binomTest       fdr REF ALT ANN[*].ALLELE ANN[*].EFFECT  \\\n",
       "0  0.055556   0.000145  0.012577   T   A             .             .   \n",
       "1  1.000000   1.000000  1.000000   G   A             .             .   \n",
       "\n",
       "  ANN[*].IMPACT ANN[*].GENE ANN[*].FEATURE ANN[*].BIOTYPE  \n",
       "0             .           .              .              .  \n",
       "1             .           .              .              .  "
      ]
     },
     "execution_count": 7,
     "metadata": {},
     "output_type": "execute_result"
    }
   ],
   "source": [
    "df_fi.head(2)"
   ]
  },
  {
   "cell_type": "code",
   "execution_count": 8,
   "metadata": {
    "collapsed": false
   },
   "outputs": [],
   "source": [
    "df_fi.to_csv(\"./data_files/concatenated_data/gatk_all_samples_concatenated_annt_added_singleline.csv\", sep=\"\\t\", index=None)"
   ]
  },
  {
   "cell_type": "code",
   "execution_count": 8,
   "metadata": {
    "collapsed": false
   },
   "outputs": [],
   "source": []
  }
 ],
 "metadata": {
  "kernelspec": {
   "display_name": "Python 3.9.7 ('base')",
   "language": "python",
   "name": "python3"
  },
  "language_info": {
   "codemirror_mode": {
    "name": "ipython",
    "version": 3
   },
   "file_extension": ".py",
   "mimetype": "text/x-python",
   "name": "python",
   "nbconvert_exporter": "python",
   "pygments_lexer": "ipython3",
   "version": "3.9.7"
  },
  "vscode": {
   "interpreter": {
    "hash": "e1876967bbf12a3c1912012818f4256fc86bc16ee2afa0fc56bc940245e1b8f9"
   }
  }
 },
 "nbformat": 4,
 "nbformat_minor": 0
}
