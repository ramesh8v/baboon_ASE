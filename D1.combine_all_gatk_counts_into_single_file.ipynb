{
 "cells": [
  {
   "cell_type": "markdown",
   "metadata": {
    "collapsed": false
   },
   "source": [
    "### Concates all GATK counts into a single dataframe/table. Also, computes following stats for all files individually.\n",
    "\n",
    "    1. Reference Bias (refbias)\n",
    "    2. Binomial Test (binomTest)\n",
    "    3. FDR adjustment (fdr)"
   ]
  },
  {
   "cell_type": "code",
   "execution_count": 1,
   "metadata": {
    "collapsed": false
   },
   "outputs": [],
   "source": [
    "## doing necessary imports\n",
    "from glob import glob\n",
    "import numpy as np\n",
    "import pandas as pd\n",
    "from pandarallel import pandarallel\n",
    "from scipy import stats\n",
    "from statsmodels.stats.multitest import fdrcorrection"
   ]
  },
  {
   "cell_type": "code",
   "execution_count": 2,
   "metadata": {
    "collapsed": false
   },
   "outputs": [
    {
     "name": "stdout",
     "output_type": "stream",
     "text": [
      "INFO: Pandarallel will run on 8 workers.\n",
      "INFO: Pandarallel will use Memory file system to transfer data between the main process and workers.\n"
     ]
    }
   ],
   "source": [
    "pandarallel.initialize(progress_bar=False)"
   ]
  },
  {
   "cell_type": "markdown",
   "metadata": {
    "collapsed": false
   },
   "source": [
    "##### Utility functions"
   ]
  },
  {
   "cell_type": "code",
   "execution_count": 3,
   "metadata": {
    "collapsed": false
   },
   "outputs": [],
   "source": [
    "## utility functions\n",
    "def compute_refbias(x):\n",
    "    \"\"\"\n",
    "    Computes reference Bias\n",
    "    \"\"\"\n",
    "    if x['totalCount'] == 0:\n",
    "        return np.nan\n",
    "    else:\n",
    "        return x['refCount']/x['totalCount']"
   ]
  },
  {
   "cell_type": "code",
   "execution_count": 4,
   "metadata": {
    "collapsed": false
   },
   "outputs": [],
   "source": [
    "def computes_binom_test(x):\n",
    "    \"\"\"\n",
    "    Computes bionomial test and returns the p value\n",
    "    \"\"\"\n",
    "    if x['totalCount'] == 0:\n",
    "        return np.nan\n",
    "    else:\n",
    "        return stats.binom_test(x['refCount'], n=x['totalCount'], p=0.5, alternative='two-sided')"
   ]
  },
  {
   "cell_type": "code",
   "execution_count": 5,
   "metadata": {
    "collapsed": false
   },
   "outputs": [],
   "source": [
    "def compute_fdr(x):\n",
    "    \"\"\"\n",
    "    Computes FDR\n",
    "    \"\"\"\n",
    "    return fdrcorrection(x, method='indep')[1]"
   ]
  },
  {
   "cell_type": "markdown",
   "metadata": {
    "collapsed": false
   },
   "source": [
    "##### Run concat files"
   ]
  },
  {
   "cell_type": "code",
   "execution_count": 8,
   "metadata": {
    "collapsed": false
   },
   "outputs": [],
   "source": [
    "### declare defaults\n",
    "timepoints = [\"ZT0\",\"ZT2\",\"ZT4\",\"ZT6\",\"ZT8\",\"ZT10\",\"ZT12\",\"ZT14\",\"ZT16\",\"ZT18\",\"ZT20\",\"ZT22\"]\n",
    "gatk_dir = \"../pipeline_ios/asecounter/*.txt\"\n",
    "out_dir = \"./data_files/concatenated_data\""
   ]
  },
  {
   "cell_type": "code",
   "execution_count": 9,
   "metadata": {
    "collapsed": false
   },
   "outputs": [],
   "source": [
    "import warnings\n",
    "warnings.filterwarnings(\"ignore\")"
   ]
  },
  {
   "cell_type": "code",
   "execution_count": 10,
   "metadata": {
    "collapsed": false
   },
   "outputs": [
    {
     "name": "stdout",
     "output_type": "stream",
     "text": [
      "Running ZT0\n",
      "ZT0 contains 10 files\n",
      "Running ZT2\n",
      "ZT2 contains 11 files\n",
      "Running ZT4\n",
      "ZT4 contains 11 files\n",
      "Running ZT6\n",
      "ZT6 contains 10 files\n",
      "Running ZT8\n",
      "ZT8 contains 11 files\n",
      "Running ZT10\n",
      "ZT10 contains 9 files\n",
      "Running ZT12\n",
      "ZT12 contains 11 files\n",
      "Running ZT14\n",
      "ZT14 contains 11 files\n",
      "Running ZT16\n",
      "ZT16 contains 11 files\n",
      "Running ZT18\n",
      "ZT18 contains 11 files\n",
      "Running ZT20\n",
      "ZT20 contains 11 files\n",
      "Running ZT22\n",
      "ZT22 contains 11 files\n"
     ]
    }
   ],
   "source": [
    "req_cols = ['tissue', 'timepoint', 'loci', 'refCount', 'altCount', 'totalCount', 'refBias', 'binomTest', 'fdr']\n",
    "## create an empty dataframe to append all files\n",
    "df_concat = pd.DataFrame(columns=req_cols)\n",
    "#loop over all ZTs in timepoints\n",
    "for zt in timepoints:\n",
    "    print(f\"Running {zt}\")\n",
    "    fnames = glob(gatk_dir)\n",
    "    fnames = [i for i in fnames if i.split(\"/\")[-1].split(\"_\")[1].strip(\".count.txt\") == zt]\n",
    "    print(f\"{zt} contains {len(fnames)} files\")\n",
    "    ## loop over tissues of a timepoint\n",
    "    for fname in fnames:\n",
    "        tissue = fname.split(\"/\")[-1].split(\"_\")[0]\n",
    "        # print(f\"Running {tissue} of {zt}\")\n",
    "\n",
    "        df = pd.read_csv(fname, sep=\"\\t\")\n",
    "        df['timepoint'] = zt\n",
    "        df['tissue'] = tissue\n",
    "\n",
    "        df['loci'] = df['contig'] + \":\" + df['position'].astype(str)\n",
    "        df['refBias'] = df.parallel_apply(compute_refbias, axis=1) #computes reference bias\n",
    "        df['binomTest'] = df.parallel_apply(computes_binom_test, axis=1) #computes binomial test\n",
    "        #creating a new df w/o missings to compute fdr test. This will be merged back to the original df\n",
    "        df1 = df[['loci', 'binomTest']].dropna().copy()\n",
    "        df1['fdr'] = compute_fdr(df1['binomTest'].to_list()) #computes FDR\n",
    "        df1 = df1[['loci', 'fdr']]\n",
    "        df = df.merge(df1, on='loci', how='left')\n",
    "        df = df[req_cols]\n",
    "        # merge with the previous df\n",
    "        df_concat = df_concat.append(df)"
   ]
  },
  {
   "cell_type": "code",
   "execution_count": 12,
   "metadata": {
    "collapsed": false
   },
   "outputs": [],
   "source": [
    "df_concat.to_parquet(f\"{out_dir}/gatk_all_samples_concatenated.parquet\", index=None)"
   ]
  },
  {
   "cell_type": "code",
   "execution_count": null,
   "metadata": {
    "collapsed": false
   },
   "outputs": [],
   "source": []
  }
 ],
 "metadata": {
  "kernelspec": {
   "display_name": "Python 3",
   "language": "python",
   "name": "python3"
  },
  "language_info": {
   "codemirror_mode": {
    "name": "ipython",
    "version": 2
   },
   "file_extension": ".py",
   "mimetype": "text/x-python",
   "name": "python",
   "nbconvert_exporter": "python",
   "pygments_lexer": "ipython2",
   "version": "2.7.6"
  }
 },
 "nbformat": 4,
 "nbformat_minor": 0
}
