{
 "cells": [
  {
   "cell_type": "markdown",
   "metadata": {
    "collapsed": false
   },
   "source": [
    "### Converts annotation from single line to multi line\n",
    " -- So that the file can be easily read into the M4 notebook"
   ]
  },
  {
   "cell_type": "code",
   "execution_count": 1,
   "metadata": {
    "collapsed": false
   },
   "outputs": [],
   "source": [
    "import pandas as pd\n",
    "from tqdm import tqdm"
   ]
  },
  {
   "cell_type": "code",
   "execution_count": 2,
   "metadata": {
    "collapsed": false
   },
   "outputs": [],
   "source": [
    "input_file = \"./data_files/concatenated_data/gatk_all_samples_concatenated_annt_added_singleline.csv\"\n",
    "output_file = \"./data_files/concatenated_data/gatk_all_samples_concatenated_annt_added_multiline.csv\""
   ]
  },
  {
   "cell_type": "code",
   "execution_count": 3,
   "metadata": {
    "collapsed": false
   },
   "outputs": [
    {
     "name": "stderr",
     "output_type": "stream",
     "text": [
      "40340208it [12:57, 51868.52it/s] \n"
     ]
    }
   ],
   "source": [
    "## reads line by line and converts annotation from single line to multi line data\n",
    "with open(output_file, \"w\") as o:\n",
    "    with open(input_file, 'r') as f: #read in the single line data\n",
    "        for ln, lines in enumerate(tqdm(f)):\n",
    "            if ln==0: #write the header as such\n",
    "                o.write(lines)\n",
    "            else:\n",
    "                lines = lines.strip().split(\"\\t\")\n",
    "                if (lines[12] == \".\") or (len(lines[12].split(\",\"))==1): # if only one annotation, do nothing\n",
    "                    o.write(\"\\t\".join(lines)+\"\\n\")\n",
    "                else: # if multiple annotations, split the annotations into separate lines\n",
    "                    mandatory_cols = lines[0:11]\n",
    "                    dat_cols = lines[11:] #annotations\n",
    "                    n_items = len(lines[11].split(\",\"))\n",
    "                    dat_cols_splitted = [[j.split(\",\")[i] for j in dat_cols] for i in range(n_items)]\n",
    "                    for i in dat_cols_splitted:\n",
    "                        o.write(\"\\t\".join(mandatory_cols+i)+\"\\n\")"
   ]
  },
  {
   "cell_type": "code",
   "execution_count": null,
   "metadata": {
    "collapsed": false
   },
   "outputs": [],
   "source": []
  }
 ],
 "metadata": {
  "kernelspec": {
   "display_name": "Python 3",
   "language": "python",
   "name": "python3"
  },
  "language_info": {
   "codemirror_mode": {
    "name": "ipython",
    "version": 2
   },
   "file_extension": ".py",
   "mimetype": "text/x-python",
   "name": "python",
   "nbconvert_exporter": "python",
   "pygments_lexer": "ipython2",
   "version": "2.7.6"
  }
 },
 "nbformat": 4,
 "nbformat_minor": 0
}
