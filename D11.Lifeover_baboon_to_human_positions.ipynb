{
 "cells": [
  {
   "cell_type": "code",
   "execution_count": 1,
   "id": "initial_id",
   "metadata": {
    "ExecuteTime": {
     "end_time": "2023-09-11T18:46:46.056752564Z",
     "start_time": "2023-09-11T18:46:46.049041349Z"
    },
    "collapsed": true
   },
   "outputs": [],
   "source": [
    "import numpy as np\n",
    "import pandas as pd\n",
    "from tqdm.notebook import tqdm\n",
    "tqdm.pandas()"
   ]
  },
  {
   "cell_type": "code",
   "execution_count": 2,
   "id": "d4746e7060fb6130",
   "metadata": {
    "ExecuteTime": {
     "end_time": "2023-09-11T18:46:48.675977250Z",
     "start_time": "2023-09-11T18:46:48.671772898Z"
    },
    "collapsed": false
   },
   "outputs": [],
   "source": [
    "import matplotlib.pyplot as plt\n",
    "import seaborn as sns\n",
    "sns.set(rc = {'figure.figsize':(12, 6)})\n",
    "sns.set_style(\"ticks\")\n",
    "sns.set_context(\"paper\", font_scale=1.5)\n",
    "sns.set_palette(\"crest\")"
   ]
  },
  {
   "cell_type": "code",
   "execution_count": 3,
   "id": "5a373122f7bf9381",
   "metadata": {
    "ExecuteTime": {
     "end_time": "2023-09-11T18:46:55.898349624Z",
     "start_time": "2023-09-11T18:46:55.859267805Z"
    },
    "collapsed": false
   },
   "outputs": [
    {
     "name": "stdout",
     "output_type": "stream",
     "text": [
      "INFO: Pandarallel will run on 8 workers.\n",
      "INFO: Pandarallel will use Memory file system to transfer data between the main process and workers.\n"
     ]
    }
   ],
   "source": [
    "from pandarallel import pandarallel\n",
    "\n",
    "pandarallel.initialize(progress_bar=True, nb_workers=8)"
   ]
  },
  {
   "cell_type": "markdown",
   "id": "2d6ff6b6fe8284de",
   "metadata": {
    "collapsed": false
   },
   "source": [
    "#### read ASE dataframes"
   ]
  },
  {
   "cell_type": "code",
   "execution_count": 4,
   "id": "31ae392534b36868",
   "metadata": {
    "ExecuteTime": {
     "end_time": "2023-09-11T18:47:39.442195950Z",
     "start_time": "2023-09-11T18:47:33.272503243Z"
    },
    "collapsed": false
   },
   "outputs": [],
   "source": [
    "## Read the AI data for all samples and timepoints\n",
    "df_usable = pd.read_parquet(\"ASE_dataframes/usable_data.parquet\")\n",
    "df_ai = pd.read_parquet(\"ASE_dataframes/ai_data.parquet\")"
   ]
  },
  {
   "cell_type": "code",
   "execution_count": 5,
   "id": "ea4499bc453231e4",
   "metadata": {
    "ExecuteTime": {
     "end_time": "2023-09-11T18:48:45.078146386Z",
     "start_time": "2023-09-11T18:48:45.025713195Z"
    },
    "collapsed": false
   },
   "outputs": [
    {
     "data": {
      "text/html": [
       "<div>\n",
       "<style scoped>\n",
       "    .dataframe tbody tr th:only-of-type {\n",
       "        vertical-align: middle;\n",
       "    }\n",
       "\n",
       "    .dataframe tbody tr th {\n",
       "        vertical-align: top;\n",
       "    }\n",
       "\n",
       "    .dataframe thead th {\n",
       "        text-align: right;\n",
       "    }\n",
       "</style>\n",
       "<table border=\"1\" class=\"dataframe\">\n",
       "  <thead>\n",
       "    <tr style=\"text-align: right;\">\n",
       "      <th></th>\n",
       "      <th>tissue</th>\n",
       "      <th>timepoint</th>\n",
       "      <th>loci</th>\n",
       "      <th>refCount</th>\n",
       "      <th>altCount</th>\n",
       "      <th>totalCount</th>\n",
       "      <th>refBias</th>\n",
       "      <th>binomTest</th>\n",
       "      <th>fdr</th>\n",
       "      <th>REF</th>\n",
       "      <th>...</th>\n",
       "      <th>ai_type</th>\n",
       "      <th>ai_cat</th>\n",
       "      <th>chrom</th>\n",
       "      <th>pos</th>\n",
       "      <th>SNV</th>\n",
       "      <th>genomic_retained</th>\n",
       "      <th>gene_id</th>\n",
       "      <th>TPM</th>\n",
       "      <th>region</th>\n",
       "      <th>sample</th>\n",
       "    </tr>\n",
       "  </thead>\n",
       "  <tbody>\n",
       "    <tr>\n",
       "      <th>12</th>\n",
       "      <td>HIP</td>\n",
       "      <td>ZT0</td>\n",
       "      <td>NC_044976.1:13800</td>\n",
       "      <td>3</td>\n",
       "      <td>4</td>\n",
       "      <td>7</td>\n",
       "      <td>0.428571</td>\n",
       "      <td>1.0</td>\n",
       "      <td>1.0</td>\n",
       "      <td>A</td>\n",
       "      <td>...</td>\n",
       "      <td>no_ai</td>\n",
       "      <td>non_AI</td>\n",
       "      <td>1</td>\n",
       "      <td>13800</td>\n",
       "      <td>1:13800</td>\n",
       "      <td>retained</td>\n",
       "      <td>ANKRD65</td>\n",
       "      <td>2.5</td>\n",
       "      <td>UTR</td>\n",
       "      <td>ZT0_HIP</td>\n",
       "    </tr>\n",
       "    <tr>\n",
       "      <th>23</th>\n",
       "      <td>HIP</td>\n",
       "      <td>ZT0</td>\n",
       "      <td>NC_044976.1:21050</td>\n",
       "      <td>3</td>\n",
       "      <td>3</td>\n",
       "      <td>6</td>\n",
       "      <td>0.500000</td>\n",
       "      <td>1.0</td>\n",
       "      <td>1.0</td>\n",
       "      <td>G</td>\n",
       "      <td>...</td>\n",
       "      <td>no_ai</td>\n",
       "      <td>non_AI</td>\n",
       "      <td>1</td>\n",
       "      <td>21050</td>\n",
       "      <td>1:21050</td>\n",
       "      <td>retained</td>\n",
       "      <td>ANKRD65</td>\n",
       "      <td>2.5</td>\n",
       "      <td>UTR</td>\n",
       "      <td>ZT0_HIP</td>\n",
       "    </tr>\n",
       "  </tbody>\n",
       "</table>\n",
       "<p>2 rows × 33 columns</p>\n",
       "</div>"
      ],
      "text/plain": [
       "   tissue timepoint               loci  refCount  altCount  totalCount  \\\n",
       "12    HIP       ZT0  NC_044976.1:13800         3         4           7   \n",
       "23    HIP       ZT0  NC_044976.1:21050         3         3           6   \n",
       "\n",
       "     refBias  binomTest  fdr REF  ... ai_type  ai_cat chrom    pos      SNV  \\\n",
       "12  0.428571        1.0  1.0   A  ...   no_ai  non_AI     1  13800  1:13800   \n",
       "23  0.500000        1.0  1.0   G  ...   no_ai  non_AI     1  21050  1:21050   \n",
       "\n",
       "   genomic_retained  gene_id  TPM region   sample  \n",
       "12         retained  ANKRD65  2.5    UTR  ZT0_HIP  \n",
       "23         retained  ANKRD65  2.5    UTR  ZT0_HIP  \n",
       "\n",
       "[2 rows x 33 columns]"
      ]
     },
     "execution_count": 5,
     "metadata": {},
     "output_type": "execute_result"
    }
   ],
   "source": [
    "df_usable.head(2)"
   ]
  },
  {
   "cell_type": "markdown",
   "id": "834cff2987aef86d",
   "metadata": {
    "collapsed": false
   },
   "source": [
    "#### read bed files and only keep usable sites"
   ]
  },
  {
   "cell_type": "code",
   "execution_count": 10,
   "id": "85a84ae1448e6948",
   "metadata": {
    "ExecuteTime": {
     "end_time": "2023-09-11T18:52:54.759736298Z",
     "start_time": "2023-09-11T18:52:54.757823036Z"
    },
    "collapsed": false
   },
   "outputs": [],
   "source": [
    "usable_sites = set(df_usable['loci'].values)"
   ]
  },
  {
   "cell_type": "code",
   "execution_count": 20,
   "id": "87bf537ba427aee3",
   "metadata": {
    "ExecuteTime": {
     "end_time": "2023-09-11T19:06:28.430509176Z",
     "start_time": "2023-09-11T19:05:43.900924443Z"
    },
    "collapsed": false
   },
   "outputs": [
    {
     "name": "stdout",
     "output_type": "stream",
     "text": [
      "ZT4 56426\n",
      "ZT6 56101\n",
      "ZT8 51391\n",
      "ZT10 57819\n",
      "ZT12 58122\n",
      "ZT14 52106\n",
      "ZT16 58962\n",
      "ZT18 58756\n",
      "ZT20 60712\n",
      "ZT22 56132\n"
     ]
    }
   ],
   "source": [
    "animals = [f\"ZT{i}\" for i in range(0,23,2)]\n",
    "for animal in animals:\n",
    "    with open(f\"baboon_to_human_liftover/bed_files_usable_sites/{animal}_PE_phase_added.bed\", 'w') as outfile:\n",
    "        with open(f\"baboon_to_human_liftover/bed_files/{animal}_PE_phase_added.bed\", 'r') as bedfile:\n",
    "            lines_wrote = 0\n",
    "            for lines in bedfile:\n",
    "                dat = lines.strip().split(\"\\t\")\n",
    "                if (f\"{dat[0]}:{dat[2]}\" in usable_sites):\n",
    "                    outfile.write(lines)\n",
    "                    lines_wrote += 1\n",
    "    print(animal, lines_wrote)"
   ]
  },
  {
   "cell_type": "code",
   "execution_count": 28,
   "id": "c0e938aed499eea6",
   "metadata": {
    "ExecuteTime": {
     "end_time": "2023-09-11T20:13:15.101091506Z",
     "start_time": "2023-09-11T20:13:12.706277991Z"
    },
    "collapsed": false
   },
   "outputs": [
    {
     "name": "stdout",
     "output_type": "stream",
     "text": [
      "0 (56426, 11)\n",
      "1 (106924, 11)\n",
      "2 (164743, 11)\n",
      "3 (220844, 11)\n",
      "4 (281331, 11)\n",
      "5 (333437, 11)\n",
      "6 (384828, 11)\n",
      "7 (442950, 11)\n",
      "8 (501912, 11)\n",
      "9 (558044, 11)\n",
      "10 (616800, 11)\n",
      "11 (677512, 11)\n"
     ]
    }
   ],
   "source": [
    "from glob import glob\n",
    "col_names = ['chr', 'start', 'end', 'loci', 'score', 'ref', 'alt', 'pass', 'info', 'format', 'sample']\n",
    "bed_files = glob(\"baboon_to_human_liftover/bed_files_usable_sites/*.bed\")\n",
    "for ln, bed_file in enumerate(bed_files):\n",
    "    if ln == 0:\n",
    "        df = pd.read_csv(bed_file, sep=\"\\t\", header=None)\n",
    "        df.columns = col_names\n",
    "    else:\n",
    "        dft = pd.read_csv(bed_file, sep=\"\\t\", header=None)\n",
    "        dft.columns = col_names\n",
    "        df = pd.concat([df, dft])\n",
    "    print(ln, df.shape)\n",
    "        "
   ]
  },
  {
   "cell_type": "code",
   "execution_count": 35,
   "id": "43ee48920a93c8cc",
   "metadata": {
    "ExecuteTime": {
     "end_time": "2023-09-11T20:52:46.560176352Z",
     "start_time": "2023-09-11T20:52:46.506777514Z"
    },
    "collapsed": false
   },
   "outputs": [
    {
     "data": {
      "text/html": [
       "<div>\n",
       "<style scoped>\n",
       "    .dataframe tbody tr th:only-of-type {\n",
       "        vertical-align: middle;\n",
       "    }\n",
       "\n",
       "    .dataframe tbody tr th {\n",
       "        vertical-align: top;\n",
       "    }\n",
       "\n",
       "    .dataframe thead th {\n",
       "        text-align: right;\n",
       "    }\n",
       "</style>\n",
       "<table border=\"1\" class=\"dataframe\">\n",
       "  <thead>\n",
       "    <tr style=\"text-align: right;\">\n",
       "      <th></th>\n",
       "      <th>chr</th>\n",
       "      <th>start</th>\n",
       "      <th>end</th>\n",
       "      <th>loci</th>\n",
       "      <th>score</th>\n",
       "      <th>ref</th>\n",
       "      <th>alt</th>\n",
       "      <th>pass</th>\n",
       "      <th>info</th>\n",
       "      <th>format</th>\n",
       "      <th>sample</th>\n",
       "    </tr>\n",
       "  </thead>\n",
       "  <tbody>\n",
       "    <tr>\n",
       "      <th>0</th>\n",
       "      <td>NC_044976.1</td>\n",
       "      <td>10271</td>\n",
       "      <td>10272</td>\n",
       "      <td>.</td>\n",
       "      <td>6866.02</td>\n",
       "      <td>G</td>\n",
       "      <td>C</td>\n",
       "      <td>PASS</td>\n",
       "      <td>AC=13;AF=0.542;AN=24;BaseQRankSum=-0.997;DP=49...</td>\n",
       "      <td>GT:AD:DP:GQ:PS</td>\n",
       "      <td>0|1:17,22:39:99:194</td>\n",
       "    </tr>\n",
       "    <tr>\n",
       "      <th>1</th>\n",
       "      <td>NC_044976.1</td>\n",
       "      <td>13799</td>\n",
       "      <td>13800</td>\n",
       "      <td>.</td>\n",
       "      <td>4685.08</td>\n",
       "      <td>A</td>\n",
       "      <td>G</td>\n",
       "      <td>PASS</td>\n",
       "      <td>AC=10;AF=0.417;AN=24;BaseQRankSum=-2.193;DP=43...</td>\n",
       "      <td>GT:AD:DP:GQ:PS</td>\n",
       "      <td>1|0:18,22:40:99:194</td>\n",
       "    </tr>\n",
       "  </tbody>\n",
       "</table>\n",
       "</div>"
      ],
      "text/plain": [
       "           chr  start    end loci    score ref alt  pass  \\\n",
       "0  NC_044976.1  10271  10272    .  6866.02   G   C  PASS   \n",
       "1  NC_044976.1  13799  13800    .  4685.08   A   G  PASS   \n",
       "\n",
       "                                                info          format  \\\n",
       "0  AC=13;AF=0.542;AN=24;BaseQRankSum=-0.997;DP=49...  GT:AD:DP:GQ:PS   \n",
       "1  AC=10;AF=0.417;AN=24;BaseQRankSum=-2.193;DP=43...  GT:AD:DP:GQ:PS   \n",
       "\n",
       "                sample  \n",
       "0  0|1:17,22:39:99:194  \n",
       "1  1|0:18,22:40:99:194  "
      ]
     },
     "execution_count": 35,
     "metadata": {},
     "output_type": "execute_result"
    }
   ],
   "source": [
    "df.head(2)"
   ]
  },
  {
   "cell_type": "code",
   "execution_count": 39,
   "id": "dcda03ca2f4ead0e",
   "metadata": {
    "ExecuteTime": {
     "end_time": "2023-09-11T20:55:11.028138883Z",
     "start_time": "2023-09-11T20:55:09.914384855Z"
    },
    "collapsed": false
   },
   "outputs": [
    {
     "name": "stderr",
     "output_type": "stream",
     "text": [
      "/tmp/ipykernel_4052396/1739601528.py:2: SettingWithCopyWarning: \n",
      "A value is trying to be set on a copy of a slice from a DataFrame.\n",
      "Try using .loc[row_indexer,col_indexer] = value instead\n",
      "\n",
      "See the caveats in the documentation: https://pandas.pydata.org/pandas-docs/stable/user_guide/indexing.html#returning-a-view-versus-a-copy\n",
      "  dft['loci'] = dft['chr'] + \":\" + dft['start'].astype(str) + \":\" + dft['ref'] + \":\" + dft['alt']\n"
     ]
    }
   ],
   "source": [
    "dft = df[['chr', 'start', 'end', \"ref\", \"alt\"]]\n",
    "dft['loci'] = dft['chr'] + \":\" + dft['start'].astype(str) + \":\" + dft['ref'] + \":\" + dft['alt']\n",
    " \n",
    "dft[['chr', 'start', 'end', 'loci']].drop_duplicates().to_csv(\"baboon_to_human_liftover/bed_files_usable_sites/loci.bed\", sep=\"\\t\", header=None, index=None)"
   ]
  },
  {
   "cell_type": "code",
   "execution_count": 37,
   "id": "903cc6e94276cb80",
   "metadata": {
    "ExecuteTime": {
     "end_time": "2023-09-11T20:53:51.692074658Z",
     "start_time": "2023-09-11T20:53:51.657219511Z"
    },
    "collapsed": false
   },
   "outputs": [
    {
     "data": {
      "text/plain": [
       "(677512, 6)"
      ]
     },
     "execution_count": 37,
     "metadata": {},
     "output_type": "execute_result"
    }
   ],
   "source": [
    "dft.shape"
   ]
  },
  {
   "cell_type": "code",
   "execution_count": 38,
   "id": "eb79f47383aaf0f",
   "metadata": {
    "ExecuteTime": {
     "end_time": "2023-09-11T20:53:55.633824445Z",
     "start_time": "2023-09-11T20:53:55.612379841Z"
    },
    "collapsed": false
   },
   "outputs": [
    {
     "data": {
      "text/html": [
       "<div>\n",
       "<style scoped>\n",
       "    .dataframe tbody tr th:only-of-type {\n",
       "        vertical-align: middle;\n",
       "    }\n",
       "\n",
       "    .dataframe tbody tr th {\n",
       "        vertical-align: top;\n",
       "    }\n",
       "\n",
       "    .dataframe thead th {\n",
       "        text-align: right;\n",
       "    }\n",
       "</style>\n",
       "<table border=\"1\" class=\"dataframe\">\n",
       "  <thead>\n",
       "    <tr style=\"text-align: right;\">\n",
       "      <th></th>\n",
       "      <th>chr</th>\n",
       "      <th>start</th>\n",
       "      <th>end</th>\n",
       "      <th>ref</th>\n",
       "      <th>alt</th>\n",
       "      <th>loci</th>\n",
       "    </tr>\n",
       "  </thead>\n",
       "  <tbody>\n",
       "    <tr>\n",
       "      <th>0</th>\n",
       "      <td>NC_044976.1</td>\n",
       "      <td>10271</td>\n",
       "      <td>10272</td>\n",
       "      <td>G</td>\n",
       "      <td>C</td>\n",
       "      <td>NC_044976.1:10271:G:C</td>\n",
       "    </tr>\n",
       "    <tr>\n",
       "      <th>1</th>\n",
       "      <td>NC_044976.1</td>\n",
       "      <td>13799</td>\n",
       "      <td>13800</td>\n",
       "      <td>A</td>\n",
       "      <td>G</td>\n",
       "      <td>NC_044976.1:13799:A:G</td>\n",
       "    </tr>\n",
       "  </tbody>\n",
       "</table>\n",
       "</div>"
      ],
      "text/plain": [
       "           chr  start    end ref alt                   loci\n",
       "0  NC_044976.1  10271  10272   G   C  NC_044976.1:10271:G:C\n",
       "1  NC_044976.1  13799  13800   A   G  NC_044976.1:13799:A:G"
      ]
     },
     "execution_count": 38,
     "metadata": {},
     "output_type": "execute_result"
    }
   ],
   "source": [
    "dft.head(2)"
   ]
  },
  {
   "cell_type": "code",
   "execution_count": null,
   "id": "cd924b814708fb87",
   "metadata": {
    "collapsed": false
   },
   "outputs": [],
   "source": []
  }
 ],
 "metadata": {
  "kernelspec": {
   "display_name": "Python 3",
   "language": "python",
   "name": "python3"
  },
  "language_info": {
   "codemirror_mode": {
    "name": "ipython",
    "version": 2
   },
   "file_extension": ".py",
   "mimetype": "text/x-python",
   "name": "python",
   "nbconvert_exporter": "python",
   "pygments_lexer": "ipython2",
   "version": "2.7.6"
  }
 },
 "nbformat": 4,
 "nbformat_minor": 5
}
