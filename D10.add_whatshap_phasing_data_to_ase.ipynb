{
 "cells": [
  {
   "cell_type": "code",
   "execution_count": 1,
   "metadata": {
    "ExecuteTime": {
     "end_time": "2023-05-30T22:30:59.446186Z",
     "start_time": "2023-05-30T22:30:59.385258Z"
    },
    "collapsed": true
   },
   "outputs": [],
   "source": [
    "import numpy as np\n",
    "import pandas as pd\n",
    "import polars as pl\n",
    "from tqdm.notebook import tqdm\n",
    "tqdm.pandas()"
   ]
  },
  {
   "cell_type": "code",
   "execution_count": 2,
   "metadata": {
    "ExecuteTime": {
     "end_time": "2023-05-30T22:31:03.843044Z",
     "start_time": "2023-05-30T22:31:03.842742Z"
    },
    "collapsed": false
   },
   "outputs": [],
   "source": [
    "import matplotlib.pyplot as plt\n",
    "import seaborn as sns\n",
    "sns.set_context(\"paper\", font_scale=1.5)\n",
    "sns.set_style(\"ticks\")"
   ]
  },
  {
   "cell_type": "code",
   "execution_count": 3,
   "metadata": {
    "ExecuteTime": {
     "end_time": "2023-05-30T22:31:04.813614Z",
     "start_time": "2023-05-30T22:31:04.813394Z"
    },
    "collapsed": false
   },
   "outputs": [],
   "source": [
    "# from pandarallel import pandarallel\n",
    "# pandarallel.initialize(progress_bar=True, nb_workers=6)"
   ]
  },
  {
   "cell_type": "markdown",
   "metadata": {
    "collapsed": false
   },
   "source": [
    "#### ReadME\n",
    "First part of this notebook is concatenating and melting the files from wide to narrow format.\n",
    "The second part is actual data processing. So go the second part directly."
   ]
  },
  {
   "cell_type": "markdown",
   "metadata": {
    "collapsed": false
   },
   "source": [
    "#### Concatenate and melt the files"
   ]
  },
  {
   "cell_type": "code",
   "execution_count": 4,
   "metadata": {
    "ExecuteTime": {
     "end_time": "2023-05-30T21:02:35.342780287Z",
     "start_time": "2023-05-30T21:02:04.398312287Z"
    },
    "collapsed": false
   },
   "outputs": [],
   "source": [
    "df = pd.read_csv(\"../../phasing_12_genomes/whatshap_phased_vcf/merged_all_samples.table\", sep=\"\\t\")"
   ]
  },
  {
   "cell_type": "code",
   "execution_count": 5,
   "metadata": {
    "ExecuteTime": {
     "end_time": "2023-05-30T21:02:35.401471530Z",
     "start_time": "2023-05-30T21:02:35.381352971Z"
    },
    "collapsed": false
   },
   "outputs": [
    {
     "data": {
      "text/html": [
       "<div>\n",
       "<style scoped>\n",
       "    .dataframe tbody tr th:only-of-type {\n",
       "        vertical-align: middle;\n",
       "    }\n",
       "\n",
       "    .dataframe tbody tr th {\n",
       "        vertical-align: top;\n",
       "    }\n",
       "\n",
       "    .dataframe thead th {\n",
       "        text-align: right;\n",
       "    }\n",
       "</style>\n",
       "<table border=\"1\" class=\"dataframe\">\n",
       "  <thead>\n",
       "    <tr style=\"text-align: right;\">\n",
       "      <th></th>\n",
       "      <th>CHROM</th>\n",
       "      <th>POS</th>\n",
       "      <th>REF</th>\n",
       "      <th>ALT</th>\n",
       "      <th>H5YTLCCXY-4_S0_L004.PS</th>\n",
       "      <th>H5YTLCCXY-4_S0_L004.GT</th>\n",
       "      <th>H5YTLCCXY-5_S0_L005.PS</th>\n",
       "      <th>H5YTLCCXY-5_S0_L005.GT</th>\n",
       "      <th>H5YTLCCXY-6_S0_L006.PS</th>\n",
       "      <th>H5YTLCCXY-6_S0_L006.GT</th>\n",
       "      <th>...</th>\n",
       "      <th>H735GCCXY-3_S0_L003.PS</th>\n",
       "      <th>H735GCCXY-3_S0_L003.GT</th>\n",
       "      <th>H735GCCXY-4_S0_L004.PS</th>\n",
       "      <th>H735GCCXY-4_S0_L004.GT</th>\n",
       "      <th>H7WM2CCXY-2_S0_L002.PS</th>\n",
       "      <th>H7WM2CCXY-2_S0_L002.GT</th>\n",
       "      <th>H7WM2CCXY-3_S0_L003.PS</th>\n",
       "      <th>H7WM2CCXY-3_S0_L003.GT</th>\n",
       "      <th>H7WM2CCXY-8_S0_L008.PS</th>\n",
       "      <th>H7WM2CCXY-8_S0_L008.GT</th>\n",
       "    </tr>\n",
       "  </thead>\n",
       "  <tbody>\n",
       "    <tr>\n",
       "      <th>0</th>\n",
       "      <td>NC_044976.1</td>\n",
       "      <td>194</td>\n",
       "      <td>C</td>\n",
       "      <td>T</td>\n",
       "      <td>NaN</td>\n",
       "      <td>./.</td>\n",
       "      <td>NaN</td>\n",
       "      <td>./.</td>\n",
       "      <td>NaN</td>\n",
       "      <td>./.</td>\n",
       "      <td>...</td>\n",
       "      <td>194.0</td>\n",
       "      <td>T|C</td>\n",
       "      <td>NaN</td>\n",
       "      <td>./.</td>\n",
       "      <td>NaN</td>\n",
       "      <td>./.</td>\n",
       "      <td>NaN</td>\n",
       "      <td>./.</td>\n",
       "      <td>NaN</td>\n",
       "      <td>./.</td>\n",
       "    </tr>\n",
       "    <tr>\n",
       "      <th>1</th>\n",
       "      <td>NC_044976.1</td>\n",
       "      <td>204</td>\n",
       "      <td>T</td>\n",
       "      <td>A</td>\n",
       "      <td>204.0</td>\n",
       "      <td>T|A</td>\n",
       "      <td>204.0</td>\n",
       "      <td>A|T</td>\n",
       "      <td>NaN</td>\n",
       "      <td>T/A</td>\n",
       "      <td>...</td>\n",
       "      <td>194.0</td>\n",
       "      <td>A|T</td>\n",
       "      <td>204.0</td>\n",
       "      <td>T|A</td>\n",
       "      <td>204.0</td>\n",
       "      <td>A|T</td>\n",
       "      <td>204.0</td>\n",
       "      <td>T|A</td>\n",
       "      <td>204.0</td>\n",
       "      <td>A|T</td>\n",
       "    </tr>\n",
       "  </tbody>\n",
       "</table>\n",
       "<p>2 rows × 28 columns</p>\n",
       "</div>"
      ],
      "text/plain": [
       "         CHROM  POS REF ALT  H5YTLCCXY-4_S0_L004.PS H5YTLCCXY-4_S0_L004.GT   \n",
       "0  NC_044976.1  194   C   T                     NaN                    ./.  \\\n",
       "1  NC_044976.1  204   T   A                   204.0                    T|A   \n",
       "\n",
       "   H5YTLCCXY-5_S0_L005.PS H5YTLCCXY-5_S0_L005.GT  H5YTLCCXY-6_S0_L006.PS   \n",
       "0                     NaN                    ./.                     NaN  \\\n",
       "1                   204.0                    A|T                     NaN   \n",
       "\n",
       "  H5YTLCCXY-6_S0_L006.GT  ...  H735GCCXY-3_S0_L003.PS H735GCCXY-3_S0_L003.GT   \n",
       "0                    ./.  ...                   194.0                    T|C  \\\n",
       "1                    T/A  ...                   194.0                    A|T   \n",
       "\n",
       "   H735GCCXY-4_S0_L004.PS H735GCCXY-4_S0_L004.GT  H7WM2CCXY-2_S0_L002.PS   \n",
       "0                     NaN                    ./.                     NaN  \\\n",
       "1                   204.0                    T|A                   204.0   \n",
       "\n",
       "  H7WM2CCXY-2_S0_L002.GT  H7WM2CCXY-3_S0_L003.PS H7WM2CCXY-3_S0_L003.GT   \n",
       "0                    ./.                     NaN                    ./.  \\\n",
       "1                    A|T                   204.0                    T|A   \n",
       "\n",
       "   H7WM2CCXY-8_S0_L008.PS H7WM2CCXY-8_S0_L008.GT  \n",
       "0                     NaN                    ./.  \n",
       "1                   204.0                    A|T  \n",
       "\n",
       "[2 rows x 28 columns]"
      ]
     },
     "execution_count": 5,
     "metadata": {},
     "output_type": "execute_result"
    }
   ],
   "source": [
    "df.head(2)"
   ]
  },
  {
   "cell_type": "code",
   "execution_count": 6,
   "metadata": {
    "ExecuteTime": {
     "end_time": "2023-05-30T21:02:59.937352872Z",
     "start_time": "2023-05-30T21:02:59.888050352Z"
    },
    "collapsed": false
   },
   "outputs": [],
   "source": [
    "sample_map = {}\n",
    "with open(\"../../sample_name_mapping.csv\", \"r\") as infile:\n",
    "    for lines in infile:\n",
    "        values, key = lines.strip().split(\",\")\n",
    "        sample_map[key] = values"
   ]
  },
  {
   "cell_type": "code",
   "execution_count": 7,
   "metadata": {
    "ExecuteTime": {
     "end_time": "2023-05-30T21:03:05.000265815Z",
     "start_time": "2023-05-30T21:03:04.994250746Z"
    },
    "collapsed": false
   },
   "outputs": [],
   "source": [
    "cols = [sample_map[col.split(\"_S0\")[0]]+\".\"+col.split(\".\")[-1] if col.startswith(\"H\") else col for col in df.columns]\n",
    "df.columns = cols"
   ]
  },
  {
   "cell_type": "code",
   "execution_count": 8,
   "metadata": {
    "ExecuteTime": {
     "end_time": "2023-05-30T21:03:10.846877353Z",
     "start_time": "2023-05-30T21:03:10.821258393Z"
    },
    "collapsed": false
   },
   "outputs": [
    {
     "data": {
      "text/html": [
       "<div>\n",
       "<style scoped>\n",
       "    .dataframe tbody tr th:only-of-type {\n",
       "        vertical-align: middle;\n",
       "    }\n",
       "\n",
       "    .dataframe tbody tr th {\n",
       "        vertical-align: top;\n",
       "    }\n",
       "\n",
       "    .dataframe thead th {\n",
       "        text-align: right;\n",
       "    }\n",
       "</style>\n",
       "<table border=\"1\" class=\"dataframe\">\n",
       "  <thead>\n",
       "    <tr style=\"text-align: right;\">\n",
       "      <th></th>\n",
       "      <th>CHROM</th>\n",
       "      <th>POS</th>\n",
       "      <th>REF</th>\n",
       "      <th>ALT</th>\n",
       "      <th>ZT8.PS</th>\n",
       "      <th>ZT8.GT</th>\n",
       "      <th>ZT14.PS</th>\n",
       "      <th>ZT14.GT</th>\n",
       "      <th>ZT0.PS</th>\n",
       "      <th>ZT0.GT</th>\n",
       "      <th>...</th>\n",
       "      <th>ZT4.PS</th>\n",
       "      <th>ZT4.GT</th>\n",
       "      <th>ZT20.PS</th>\n",
       "      <th>ZT20.GT</th>\n",
       "      <th>ZT6.PS</th>\n",
       "      <th>ZT6.GT</th>\n",
       "      <th>ZT22.PS</th>\n",
       "      <th>ZT22.GT</th>\n",
       "      <th>ZT10.PS</th>\n",
       "      <th>ZT10.GT</th>\n",
       "    </tr>\n",
       "  </thead>\n",
       "  <tbody>\n",
       "    <tr>\n",
       "      <th>0</th>\n",
       "      <td>NC_044976.1</td>\n",
       "      <td>194</td>\n",
       "      <td>C</td>\n",
       "      <td>T</td>\n",
       "      <td>NaN</td>\n",
       "      <td>./.</td>\n",
       "      <td>NaN</td>\n",
       "      <td>./.</td>\n",
       "      <td>NaN</td>\n",
       "      <td>./.</td>\n",
       "      <td>...</td>\n",
       "      <td>194.0</td>\n",
       "      <td>T|C</td>\n",
       "      <td>NaN</td>\n",
       "      <td>./.</td>\n",
       "      <td>NaN</td>\n",
       "      <td>./.</td>\n",
       "      <td>NaN</td>\n",
       "      <td>./.</td>\n",
       "      <td>NaN</td>\n",
       "      <td>./.</td>\n",
       "    </tr>\n",
       "    <tr>\n",
       "      <th>1</th>\n",
       "      <td>NC_044976.1</td>\n",
       "      <td>204</td>\n",
       "      <td>T</td>\n",
       "      <td>A</td>\n",
       "      <td>204.0</td>\n",
       "      <td>T|A</td>\n",
       "      <td>204.0</td>\n",
       "      <td>A|T</td>\n",
       "      <td>NaN</td>\n",
       "      <td>T/A</td>\n",
       "      <td>...</td>\n",
       "      <td>194.0</td>\n",
       "      <td>A|T</td>\n",
       "      <td>204.0</td>\n",
       "      <td>T|A</td>\n",
       "      <td>204.0</td>\n",
       "      <td>A|T</td>\n",
       "      <td>204.0</td>\n",
       "      <td>T|A</td>\n",
       "      <td>204.0</td>\n",
       "      <td>A|T</td>\n",
       "    </tr>\n",
       "  </tbody>\n",
       "</table>\n",
       "<p>2 rows × 28 columns</p>\n",
       "</div>"
      ],
      "text/plain": [
       "         CHROM  POS REF ALT  ZT8.PS ZT8.GT  ZT14.PS ZT14.GT  ZT0.PS ZT0.GT   \n",
       "0  NC_044976.1  194   C   T     NaN    ./.      NaN     ./.     NaN    ./.  \\\n",
       "1  NC_044976.1  204   T   A   204.0    T|A    204.0     A|T     NaN    T/A   \n",
       "\n",
       "   ...  ZT4.PS ZT4.GT  ZT20.PS ZT20.GT  ZT6.PS ZT6.GT  ZT22.PS ZT22.GT   \n",
       "0  ...   194.0    T|C      NaN     ./.     NaN    ./.      NaN     ./.  \\\n",
       "1  ...   194.0    A|T    204.0     T|A   204.0    A|T    204.0     T|A   \n",
       "\n",
       "   ZT10.PS ZT10.GT  \n",
       "0      NaN     ./.  \n",
       "1    204.0     A|T  \n",
       "\n",
       "[2 rows x 28 columns]"
      ]
     },
     "execution_count": 8,
     "metadata": {},
     "output_type": "execute_result"
    }
   ],
   "source": [
    "df.head(2)"
   ]
  },
  {
   "cell_type": "code",
   "execution_count": 9,
   "metadata": {
    "ExecuteTime": {
     "end_time": "2023-05-30T21:03:13.280042707Z",
     "start_time": "2023-05-30T21:03:13.268272898Z"
    },
    "collapsed": false
   },
   "outputs": [
    {
     "data": {
      "text/plain": [
       "(16118088, 28)"
      ]
     },
     "execution_count": 9,
     "metadata": {},
     "output_type": "execute_result"
    }
   ],
   "source": [
    "df.shape"
   ]
  },
  {
   "cell_type": "code",
   "execution_count": 10,
   "metadata": {
    "ExecuteTime": {
     "end_time": "2023-05-24T22:03:25.319984336Z",
     "start_time": "2023-05-24T22:01:43.422659656Z"
    },
    "collapsed": false
   },
   "outputs": [],
   "source": [
    "value_vars=[f\"ZT{i}.GT\" for i in range(0,23,2)]\n",
    "gt = df.melt(id_vars = ['CHROM', 'POS', 'REF', \"ALT\"], value_vars=value_vars, var_name=\"GT\")\\\n",
    "    .assign(SNV = lambda x: x['CHROM'] + \":\" + x['POS'].astype(str))"
   ]
  },
  {
   "cell_type": "code",
   "execution_count": 11,
   "metadata": {
    "ExecuteTime": {
     "end_time": "2023-05-24T22:05:03.123314493Z",
     "start_time": "2023-05-24T22:03:25.360336450Z"
    },
    "collapsed": false
   },
   "outputs": [],
   "source": [
    "value_vars=[f\"ZT{i}.PS\" for i in range(0,23,2)]\n",
    "ps = df.melt(id_vars = ['CHROM', 'POS', 'REF', \"ALT\"], value_vars=value_vars, var_name=\"PS\")\\\n",
    "    .assign(SNV = lambda x: x['CHROM'] + \":\" + x['POS'].astype(str))"
   ]
  },
  {
   "cell_type": "code",
   "execution_count": 12,
   "metadata": {
    "ExecuteTime": {
     "end_time": "2023-05-24T22:05:03.212203078Z",
     "start_time": "2023-05-24T22:05:03.167642588Z"
    },
    "collapsed": false
   },
   "outputs": [
    {
     "data": {
      "text/html": [
       "<div>\n",
       "<style scoped>\n",
       "    .dataframe tbody tr th:only-of-type {\n",
       "        vertical-align: middle;\n",
       "    }\n",
       "\n",
       "    .dataframe tbody tr th {\n",
       "        vertical-align: top;\n",
       "    }\n",
       "\n",
       "    .dataframe thead th {\n",
       "        text-align: right;\n",
       "    }\n",
       "</style>\n",
       "<table border=\"1\" class=\"dataframe\">\n",
       "  <thead>\n",
       "    <tr style=\"text-align: right;\">\n",
       "      <th></th>\n",
       "      <th>CHROM</th>\n",
       "      <th>POS</th>\n",
       "      <th>REF</th>\n",
       "      <th>ALT</th>\n",
       "      <th>GT</th>\n",
       "      <th>value</th>\n",
       "      <th>SNV</th>\n",
       "    </tr>\n",
       "  </thead>\n",
       "  <tbody>\n",
       "    <tr>\n",
       "      <th>0</th>\n",
       "      <td>NC_044976.1</td>\n",
       "      <td>194</td>\n",
       "      <td>C</td>\n",
       "      <td>T</td>\n",
       "      <td>ZT0.GT</td>\n",
       "      <td>./.</td>\n",
       "      <td>NC_044976.1:194</td>\n",
       "    </tr>\n",
       "    <tr>\n",
       "      <th>1</th>\n",
       "      <td>NC_044976.1</td>\n",
       "      <td>204</td>\n",
       "      <td>T</td>\n",
       "      <td>A</td>\n",
       "      <td>ZT0.GT</td>\n",
       "      <td>T/A</td>\n",
       "      <td>NC_044976.1:204</td>\n",
       "    </tr>\n",
       "  </tbody>\n",
       "</table>\n",
       "</div>"
      ],
      "text/plain": [
       "         CHROM  POS REF ALT      GT value              SNV\n",
       "0  NC_044976.1  194   C   T  ZT0.GT   ./.  NC_044976.1:194\n",
       "1  NC_044976.1  204   T   A  ZT0.GT   T/A  NC_044976.1:204"
      ]
     },
     "execution_count": 12,
     "metadata": {},
     "output_type": "execute_result"
    }
   ],
   "source": [
    "gt.head(2)"
   ]
  },
  {
   "cell_type": "code",
   "execution_count": 13,
   "metadata": {
    "ExecuteTime": {
     "end_time": "2023-05-24T22:05:03.213424820Z",
     "start_time": "2023-05-24T22:05:03.211881584Z"
    },
    "collapsed": false
   },
   "outputs": [
    {
     "data": {
      "text/html": [
       "<div>\n",
       "<style scoped>\n",
       "    .dataframe tbody tr th:only-of-type {\n",
       "        vertical-align: middle;\n",
       "    }\n",
       "\n",
       "    .dataframe tbody tr th {\n",
       "        vertical-align: top;\n",
       "    }\n",
       "\n",
       "    .dataframe thead th {\n",
       "        text-align: right;\n",
       "    }\n",
       "</style>\n",
       "<table border=\"1\" class=\"dataframe\">\n",
       "  <thead>\n",
       "    <tr style=\"text-align: right;\">\n",
       "      <th></th>\n",
       "      <th>CHROM</th>\n",
       "      <th>POS</th>\n",
       "      <th>REF</th>\n",
       "      <th>ALT</th>\n",
       "      <th>PS</th>\n",
       "      <th>value</th>\n",
       "      <th>SNV</th>\n",
       "    </tr>\n",
       "  </thead>\n",
       "  <tbody>\n",
       "    <tr>\n",
       "      <th>0</th>\n",
       "      <td>NC_044976.1</td>\n",
       "      <td>194</td>\n",
       "      <td>C</td>\n",
       "      <td>T</td>\n",
       "      <td>ZT0.PS</td>\n",
       "      <td>NaN</td>\n",
       "      <td>NC_044976.1:194</td>\n",
       "    </tr>\n",
       "    <tr>\n",
       "      <th>1</th>\n",
       "      <td>NC_044976.1</td>\n",
       "      <td>204</td>\n",
       "      <td>T</td>\n",
       "      <td>A</td>\n",
       "      <td>ZT0.PS</td>\n",
       "      <td>NaN</td>\n",
       "      <td>NC_044976.1:204</td>\n",
       "    </tr>\n",
       "  </tbody>\n",
       "</table>\n",
       "</div>"
      ],
      "text/plain": [
       "         CHROM  POS REF ALT      PS  value              SNV\n",
       "0  NC_044976.1  194   C   T  ZT0.PS    NaN  NC_044976.1:194\n",
       "1  NC_044976.1  204   T   A  ZT0.PS    NaN  NC_044976.1:204"
      ]
     },
     "execution_count": 13,
     "metadata": {},
     "output_type": "execute_result"
    }
   ],
   "source": [
    "ps.head(2)"
   ]
  },
  {
   "cell_type": "code",
   "execution_count": 15,
   "metadata": {
    "ExecuteTime": {
     "end_time": "2023-05-24T22:14:04.346210178Z",
     "start_time": "2023-05-24T22:08:19.024663064Z"
    },
    "collapsed": false
   },
   "outputs": [
    {
     "data": {
      "application/vnd.jupyter.widget-view+json": {
       "model_id": "4a88f23127244e22a10b4dcc06689f8d",
       "version_major": 2,
       "version_minor": 0
      },
      "text/plain": [
       "  0%|          | 0/193417056 [00:00<?, ?it/s]"
      ]
     },
     "metadata": {},
     "output_type": "display_data"
    },
    {
     "data": {
      "application/vnd.jupyter.widget-view+json": {
       "model_id": "81ee424852e04d708f191591485416ac",
       "version_major": 2,
       "version_minor": 0
      },
      "text/plain": [
       "  0%|          | 0/193417056 [00:00<?, ?it/s]"
      ]
     },
     "metadata": {},
     "output_type": "display_data"
    }
   ],
   "source": [
    "ps['animal'] = ps['PS'].progress_apply(lambda x: x.split(\".\")[0])\n",
    "gt['animal'] = gt['GT'].progress_apply(lambda x: x.split(\".\")[0])"
   ]
  },
  {
   "cell_type": "code",
   "execution_count": 16,
   "metadata": {
    "ExecuteTime": {
     "end_time": "2023-05-24T22:18:59.048953559Z",
     "start_time": "2023-05-24T22:15:01.737888829Z"
    },
    "collapsed": false
   },
   "outputs": [
    {
     "data": {
      "application/vnd.jupyter.widget-view+json": {
       "model_id": "f6395d65e4824f38a1fa8af4195c51a3",
       "version_major": 2,
       "version_minor": 0
      },
      "text/plain": [
       "  0%|          | 0/12 [00:00<?, ?it/s]"
      ]
     },
     "metadata": {},
     "output_type": "display_data"
    }
   ],
   "source": [
    "ps_dict = {}\n",
    "for animal in tqdm(ps['animal'].unique()):\n",
    "    ps_dict[animal] = ps[ps['animal'] == animal].set_index('SNV')['value'].to_dict()"
   ]
  },
  {
   "cell_type": "code",
   "execution_count": 17,
   "metadata": {
    "ExecuteTime": {
     "end_time": "2023-05-24T22:46:37.154328160Z",
     "start_time": "2023-05-24T22:22:18.175329274Z"
    },
    "collapsed": false
   },
   "outputs": [
    {
     "data": {
      "application/vnd.jupyter.widget-view+json": {
       "model_id": "72f4d7a059654ace9a2c5337fa00ee71",
       "version_major": 2,
       "version_minor": 0
      },
      "text/plain": [
       "  0%|          | 0/193417056 [00:00<?, ?it/s]"
      ]
     },
     "metadata": {},
     "output_type": "display_data"
    }
   ],
   "source": [
    "gt['PS'] = gt.progress_apply(lambda x: ps_dict[x['animal']][x['SNV']], axis=1)"
   ]
  },
  {
   "cell_type": "code",
   "execution_count": 19,
   "metadata": {
    "ExecuteTime": {
     "end_time": "2023-05-24T22:49:43.834069129Z",
     "start_time": "2023-05-24T22:49:43.816331349Z"
    },
    "collapsed": false
   },
   "outputs": [
    {
     "data": {
      "text/html": [
       "<div>\n",
       "<style scoped>\n",
       "    .dataframe tbody tr th:only-of-type {\n",
       "        vertical-align: middle;\n",
       "    }\n",
       "\n",
       "    .dataframe tbody tr th {\n",
       "        vertical-align: top;\n",
       "    }\n",
       "\n",
       "    .dataframe thead th {\n",
       "        text-align: right;\n",
       "    }\n",
       "</style>\n",
       "<table border=\"1\" class=\"dataframe\">\n",
       "  <thead>\n",
       "    <tr style=\"text-align: right;\">\n",
       "      <th></th>\n",
       "      <th>CHROM</th>\n",
       "      <th>POS</th>\n",
       "      <th>REF</th>\n",
       "      <th>ALT</th>\n",
       "      <th>GT</th>\n",
       "      <th>value</th>\n",
       "      <th>SNV</th>\n",
       "      <th>animal</th>\n",
       "      <th>PS</th>\n",
       "    </tr>\n",
       "  </thead>\n",
       "  <tbody>\n",
       "    <tr>\n",
       "      <th>0</th>\n",
       "      <td>NC_044976.1</td>\n",
       "      <td>194</td>\n",
       "      <td>C</td>\n",
       "      <td>T</td>\n",
       "      <td>ZT0.GT</td>\n",
       "      <td>./.</td>\n",
       "      <td>NC_044976.1:194</td>\n",
       "      <td>ZT0</td>\n",
       "      <td>NaN</td>\n",
       "    </tr>\n",
       "    <tr>\n",
       "      <th>1</th>\n",
       "      <td>NC_044976.1</td>\n",
       "      <td>204</td>\n",
       "      <td>T</td>\n",
       "      <td>A</td>\n",
       "      <td>ZT0.GT</td>\n",
       "      <td>T/A</td>\n",
       "      <td>NC_044976.1:204</td>\n",
       "      <td>ZT0</td>\n",
       "      <td>NaN</td>\n",
       "    </tr>\n",
       "    <tr>\n",
       "      <th>2</th>\n",
       "      <td>NC_044976.1</td>\n",
       "      <td>222</td>\n",
       "      <td>G</td>\n",
       "      <td>A</td>\n",
       "      <td>ZT0.GT</td>\n",
       "      <td>./.</td>\n",
       "      <td>NC_044976.1:222</td>\n",
       "      <td>ZT0</td>\n",
       "      <td>NaN</td>\n",
       "    </tr>\n",
       "    <tr>\n",
       "      <th>3</th>\n",
       "      <td>NC_044976.1</td>\n",
       "      <td>244</td>\n",
       "      <td>G</td>\n",
       "      <td>C</td>\n",
       "      <td>ZT0.GT</td>\n",
       "      <td>./.</td>\n",
       "      <td>NC_044976.1:244</td>\n",
       "      <td>ZT0</td>\n",
       "      <td>NaN</td>\n",
       "    </tr>\n",
       "    <tr>\n",
       "      <th>4</th>\n",
       "      <td>NC_044976.1</td>\n",
       "      <td>287</td>\n",
       "      <td>A</td>\n",
       "      <td>C</td>\n",
       "      <td>ZT0.GT</td>\n",
       "      <td>./.</td>\n",
       "      <td>NC_044976.1:287</td>\n",
       "      <td>ZT0</td>\n",
       "      <td>NaN</td>\n",
       "    </tr>\n",
       "    <tr>\n",
       "      <th>5</th>\n",
       "      <td>NC_044976.1</td>\n",
       "      <td>296</td>\n",
       "      <td>G</td>\n",
       "      <td>A</td>\n",
       "      <td>ZT0.GT</td>\n",
       "      <td>./.</td>\n",
       "      <td>NC_044976.1:296</td>\n",
       "      <td>ZT0</td>\n",
       "      <td>NaN</td>\n",
       "    </tr>\n",
       "    <tr>\n",
       "      <th>6</th>\n",
       "      <td>NC_044976.1</td>\n",
       "      <td>300</td>\n",
       "      <td>T</td>\n",
       "      <td>A</td>\n",
       "      <td>ZT0.GT</td>\n",
       "      <td>./.</td>\n",
       "      <td>NC_044976.1:300</td>\n",
       "      <td>ZT0</td>\n",
       "      <td>NaN</td>\n",
       "    </tr>\n",
       "    <tr>\n",
       "      <th>7</th>\n",
       "      <td>NC_044976.1</td>\n",
       "      <td>325</td>\n",
       "      <td>C</td>\n",
       "      <td>T</td>\n",
       "      <td>ZT0.GT</td>\n",
       "      <td>./.</td>\n",
       "      <td>NC_044976.1:325</td>\n",
       "      <td>ZT0</td>\n",
       "      <td>NaN</td>\n",
       "    </tr>\n",
       "    <tr>\n",
       "      <th>8</th>\n",
       "      <td>NC_044976.1</td>\n",
       "      <td>328</td>\n",
       "      <td>T</td>\n",
       "      <td>C</td>\n",
       "      <td>ZT0.GT</td>\n",
       "      <td>./.</td>\n",
       "      <td>NC_044976.1:328</td>\n",
       "      <td>ZT0</td>\n",
       "      <td>NaN</td>\n",
       "    </tr>\n",
       "    <tr>\n",
       "      <th>9</th>\n",
       "      <td>NC_044976.1</td>\n",
       "      <td>441</td>\n",
       "      <td>G</td>\n",
       "      <td>C</td>\n",
       "      <td>ZT0.GT</td>\n",
       "      <td>C|G</td>\n",
       "      <td>NC_044976.1:441</td>\n",
       "      <td>ZT0</td>\n",
       "      <td>204.0</td>\n",
       "    </tr>\n",
       "    <tr>\n",
       "      <th>10</th>\n",
       "      <td>NC_044976.1</td>\n",
       "      <td>580</td>\n",
       "      <td>C</td>\n",
       "      <td>T</td>\n",
       "      <td>ZT0.GT</td>\n",
       "      <td>C|T</td>\n",
       "      <td>NC_044976.1:580</td>\n",
       "      <td>ZT0</td>\n",
       "      <td>204.0</td>\n",
       "    </tr>\n",
       "    <tr>\n",
       "      <th>11</th>\n",
       "      <td>NC_044976.1</td>\n",
       "      <td>591</td>\n",
       "      <td>C</td>\n",
       "      <td>A</td>\n",
       "      <td>ZT0.GT</td>\n",
       "      <td>A|C</td>\n",
       "      <td>NC_044976.1:591</td>\n",
       "      <td>ZT0</td>\n",
       "      <td>204.0</td>\n",
       "    </tr>\n",
       "    <tr>\n",
       "      <th>12</th>\n",
       "      <td>NC_044976.1</td>\n",
       "      <td>607</td>\n",
       "      <td>C</td>\n",
       "      <td>A</td>\n",
       "      <td>ZT0.GT</td>\n",
       "      <td>A|C</td>\n",
       "      <td>NC_044976.1:607</td>\n",
       "      <td>ZT0</td>\n",
       "      <td>204.0</td>\n",
       "    </tr>\n",
       "    <tr>\n",
       "      <th>13</th>\n",
       "      <td>NC_044976.1</td>\n",
       "      <td>619</td>\n",
       "      <td>C</td>\n",
       "      <td>G</td>\n",
       "      <td>ZT0.GT</td>\n",
       "      <td>G|C</td>\n",
       "      <td>NC_044976.1:619</td>\n",
       "      <td>ZT0</td>\n",
       "      <td>204.0</td>\n",
       "    </tr>\n",
       "    <tr>\n",
       "      <th>14</th>\n",
       "      <td>NC_044976.1</td>\n",
       "      <td>760</td>\n",
       "      <td>C</td>\n",
       "      <td>A</td>\n",
       "      <td>ZT0.GT</td>\n",
       "      <td>./.</td>\n",
       "      <td>NC_044976.1:760</td>\n",
       "      <td>ZT0</td>\n",
       "      <td>NaN</td>\n",
       "    </tr>\n",
       "    <tr>\n",
       "      <th>15</th>\n",
       "      <td>NC_044976.1</td>\n",
       "      <td>862</td>\n",
       "      <td>C</td>\n",
       "      <td>T</td>\n",
       "      <td>ZT0.GT</td>\n",
       "      <td>./.</td>\n",
       "      <td>NC_044976.1:862</td>\n",
       "      <td>ZT0</td>\n",
       "      <td>NaN</td>\n",
       "    </tr>\n",
       "    <tr>\n",
       "      <th>16</th>\n",
       "      <td>NC_044976.1</td>\n",
       "      <td>864</td>\n",
       "      <td>C</td>\n",
       "      <td>G</td>\n",
       "      <td>ZT0.GT</td>\n",
       "      <td>./.</td>\n",
       "      <td>NC_044976.1:864</td>\n",
       "      <td>ZT0</td>\n",
       "      <td>NaN</td>\n",
       "    </tr>\n",
       "    <tr>\n",
       "      <th>17</th>\n",
       "      <td>NC_044976.1</td>\n",
       "      <td>870</td>\n",
       "      <td>C</td>\n",
       "      <td>A</td>\n",
       "      <td>ZT0.GT</td>\n",
       "      <td>./.</td>\n",
       "      <td>NC_044976.1:870</td>\n",
       "      <td>ZT0</td>\n",
       "      <td>NaN</td>\n",
       "    </tr>\n",
       "    <tr>\n",
       "      <th>18</th>\n",
       "      <td>NC_044976.1</td>\n",
       "      <td>871</td>\n",
       "      <td>G</td>\n",
       "      <td>A</td>\n",
       "      <td>ZT0.GT</td>\n",
       "      <td>./.</td>\n",
       "      <td>NC_044976.1:871</td>\n",
       "      <td>ZT0</td>\n",
       "      <td>NaN</td>\n",
       "    </tr>\n",
       "    <tr>\n",
       "      <th>19</th>\n",
       "      <td>NC_044976.1</td>\n",
       "      <td>888</td>\n",
       "      <td>G</td>\n",
       "      <td>A</td>\n",
       "      <td>ZT0.GT</td>\n",
       "      <td>./.</td>\n",
       "      <td>NC_044976.1:888</td>\n",
       "      <td>ZT0</td>\n",
       "      <td>NaN</td>\n",
       "    </tr>\n",
       "  </tbody>\n",
       "</table>\n",
       "</div>"
      ],
      "text/plain": [
       "          CHROM  POS REF ALT      GT value              SNV animal     PS\n",
       "0   NC_044976.1  194   C   T  ZT0.GT   ./.  NC_044976.1:194    ZT0    NaN\n",
       "1   NC_044976.1  204   T   A  ZT0.GT   T/A  NC_044976.1:204    ZT0    NaN\n",
       "2   NC_044976.1  222   G   A  ZT0.GT   ./.  NC_044976.1:222    ZT0    NaN\n",
       "3   NC_044976.1  244   G   C  ZT0.GT   ./.  NC_044976.1:244    ZT0    NaN\n",
       "4   NC_044976.1  287   A   C  ZT0.GT   ./.  NC_044976.1:287    ZT0    NaN\n",
       "5   NC_044976.1  296   G   A  ZT0.GT   ./.  NC_044976.1:296    ZT0    NaN\n",
       "6   NC_044976.1  300   T   A  ZT0.GT   ./.  NC_044976.1:300    ZT0    NaN\n",
       "7   NC_044976.1  325   C   T  ZT0.GT   ./.  NC_044976.1:325    ZT0    NaN\n",
       "8   NC_044976.1  328   T   C  ZT0.GT   ./.  NC_044976.1:328    ZT0    NaN\n",
       "9   NC_044976.1  441   G   C  ZT0.GT   C|G  NC_044976.1:441    ZT0  204.0\n",
       "10  NC_044976.1  580   C   T  ZT0.GT   C|T  NC_044976.1:580    ZT0  204.0\n",
       "11  NC_044976.1  591   C   A  ZT0.GT   A|C  NC_044976.1:591    ZT0  204.0\n",
       "12  NC_044976.1  607   C   A  ZT0.GT   A|C  NC_044976.1:607    ZT0  204.0\n",
       "13  NC_044976.1  619   C   G  ZT0.GT   G|C  NC_044976.1:619    ZT0  204.0\n",
       "14  NC_044976.1  760   C   A  ZT0.GT   ./.  NC_044976.1:760    ZT0    NaN\n",
       "15  NC_044976.1  862   C   T  ZT0.GT   ./.  NC_044976.1:862    ZT0    NaN\n",
       "16  NC_044976.1  864   C   G  ZT0.GT   ./.  NC_044976.1:864    ZT0    NaN\n",
       "17  NC_044976.1  870   C   A  ZT0.GT   ./.  NC_044976.1:870    ZT0    NaN\n",
       "18  NC_044976.1  871   G   A  ZT0.GT   ./.  NC_044976.1:871    ZT0    NaN\n",
       "19  NC_044976.1  888   G   A  ZT0.GT   ./.  NC_044976.1:888    ZT0    NaN"
      ]
     },
     "execution_count": 19,
     "metadata": {},
     "output_type": "execute_result"
    }
   ],
   "source": [
    "gt.head(20)"
   ]
  },
  {
   "cell_type": "code",
   "execution_count": 23,
   "metadata": {
    "ExecuteTime": {
     "end_time": "2023-05-24T22:57:39.679372909Z",
     "start_time": "2023-05-24T22:56:06.254016930Z"
    },
    "collapsed": false
   },
   "outputs": [],
   "source": [
    "gt.to_parquet(\"./data_files/whatshap_phased_blocks.parquet\", index=False)"
   ]
  },
  {
   "cell_type": "code",
   "execution_count": 24,
   "metadata": {
    "ExecuteTime": {
     "end_time": "2023-05-24T23:00:41.487235329Z",
     "start_time": "2023-05-24T23:00:41.427866505Z"
    },
    "collapsed": false
   },
   "outputs": [
    {
     "data": {
      "text/plain": [
       "(193417056, 9)"
      ]
     },
     "execution_count": 24,
     "metadata": {},
     "output_type": "execute_result"
    }
   ],
   "source": [
    "gt.shape"
   ]
  },
  {
   "cell_type": "markdown",
   "metadata": {
    "collapsed": false
   },
   "source": [
    "#### Let's read the ASE data"
   ]
  },
  {
   "cell_type": "code",
   "execution_count": 4,
   "metadata": {
    "ExecuteTime": {
     "end_time": "2023-05-30T22:32:20.580180Z",
     "start_time": "2023-05-30T22:31:14.210825Z"
    },
    "collapsed": false
   },
   "outputs": [],
   "source": [
    "gt = pd.read_parquet(\"./data_files/whatshap_phased_blocks.parquet\")"
   ]
  },
  {
   "cell_type": "code",
   "execution_count": 5,
   "metadata": {
    "ExecuteTime": {
     "end_time": "2023-05-30T22:33:14.289894Z",
     "start_time": "2023-05-30T22:32:20.579443Z"
    },
    "collapsed": false
   },
   "outputs": [],
   "source": [
    "df = pd.read_parquet(\"./data_files/concatenated_data/gatk_all_samples_concatenated_annt_added_multiline_dupes_dropped_phase_added_with_TPM_and_genomic_data.parquet\")"
   ]
  },
  {
   "cell_type": "code",
   "execution_count": 6,
   "metadata": {
    "ExecuteTime": {
     "end_time": "2023-05-30T22:33:14.345882Z",
     "start_time": "2023-05-30T22:33:14.344516Z"
    },
    "collapsed": false
   },
   "outputs": [
    {
     "data": {
      "text/html": [
       "<div>\n",
       "<style scoped>\n",
       "    .dataframe tbody tr th:only-of-type {\n",
       "        vertical-align: middle;\n",
       "    }\n",
       "\n",
       "    .dataframe tbody tr th {\n",
       "        vertical-align: top;\n",
       "    }\n",
       "\n",
       "    .dataframe thead th {\n",
       "        text-align: right;\n",
       "    }\n",
       "</style>\n",
       "<table border=\"1\" class=\"dataframe\">\n",
       "  <thead>\n",
       "    <tr style=\"text-align: right;\">\n",
       "      <th></th>\n",
       "      <th>tissue</th>\n",
       "      <th>timepoint</th>\n",
       "      <th>loci</th>\n",
       "      <th>refCount</th>\n",
       "      <th>altCount</th>\n",
       "      <th>totalCount</th>\n",
       "      <th>refBias</th>\n",
       "      <th>binomTest</th>\n",
       "      <th>fdr</th>\n",
       "      <th>REF</th>\n",
       "      <th>...</th>\n",
       "      <th>homologBias</th>\n",
       "      <th>ai_type</th>\n",
       "      <th>ai_cat</th>\n",
       "      <th>chrom</th>\n",
       "      <th>pos</th>\n",
       "      <th>SNV</th>\n",
       "      <th>genomic_retained</th>\n",
       "      <th>gene_id</th>\n",
       "      <th>TPM</th>\n",
       "      <th>region</th>\n",
       "    </tr>\n",
       "  </thead>\n",
       "  <tbody>\n",
       "    <tr>\n",
       "      <th>0</th>\n",
       "      <td>HIP</td>\n",
       "      <td>ZT0</td>\n",
       "      <td>NC_044976.1:204</td>\n",
       "      <td>1</td>\n",
       "      <td>17</td>\n",
       "      <td>18</td>\n",
       "      <td>0.055556</td>\n",
       "      <td>0.000145</td>\n",
       "      <td>0.012577</td>\n",
       "      <td>T</td>\n",
       "      <td>...</td>\n",
       "      <td>NaN</td>\n",
       "      <td>MA</td>\n",
       "      <td>MA</td>\n",
       "      <td>1</td>\n",
       "      <td>204</td>\n",
       "      <td>1:204</td>\n",
       "      <td>dropped</td>\n",
       "      <td>None</td>\n",
       "      <td>NaN</td>\n",
       "      <td>Missing</td>\n",
       "    </tr>\n",
       "    <tr>\n",
       "      <th>1</th>\n",
       "      <td>HIP</td>\n",
       "      <td>ZT0</td>\n",
       "      <td>NC_044976.1:4126</td>\n",
       "      <td>1</td>\n",
       "      <td>0</td>\n",
       "      <td>1</td>\n",
       "      <td>1.000000</td>\n",
       "      <td>1.000000</td>\n",
       "      <td>1.000000</td>\n",
       "      <td>G</td>\n",
       "      <td>...</td>\n",
       "      <td>0.0</td>\n",
       "      <td>no_ai</td>\n",
       "      <td>LT5_reads</td>\n",
       "      <td>1</td>\n",
       "      <td>4126</td>\n",
       "      <td>1:4126</td>\n",
       "      <td>dropped</td>\n",
       "      <td>None</td>\n",
       "      <td>NaN</td>\n",
       "      <td>Missing</td>\n",
       "    </tr>\n",
       "  </tbody>\n",
       "</table>\n",
       "<p>2 rows × 32 columns</p>\n",
       "</div>"
      ],
      "text/plain": [
       "  tissue timepoint              loci  refCount  altCount  totalCount  \\\n",
       "0    HIP       ZT0   NC_044976.1:204         1        17          18   \n",
       "1    HIP       ZT0  NC_044976.1:4126         1         0           1   \n",
       "\n",
       "    refBias  binomTest       fdr REF  ... homologBias ai_type     ai_cat  \\\n",
       "0  0.055556   0.000145  0.012577   T  ...         NaN      MA         MA   \n",
       "1  1.000000   1.000000  1.000000   G  ...         0.0   no_ai  LT5_reads   \n",
       "\n",
       "  chrom   pos     SNV genomic_retained gene_id TPM   region  \n",
       "0     1   204   1:204          dropped    None NaN  Missing  \n",
       "1     1  4126  1:4126          dropped    None NaN  Missing  \n",
       "\n",
       "[2 rows x 32 columns]"
      ]
     },
     "execution_count": 6,
     "metadata": {},
     "output_type": "execute_result"
    }
   ],
   "source": [
    "df.head(2)"
   ]
  },
  {
   "cell_type": "code",
   "execution_count": 7,
   "metadata": {
    "ExecuteTime": {
     "end_time": "2023-05-30T22:33:14.346422Z",
     "start_time": "2023-05-30T22:33:14.344885Z"
    },
    "collapsed": false
   },
   "outputs": [
    {
     "data": {
      "text/html": [
       "<div>\n",
       "<style scoped>\n",
       "    .dataframe tbody tr th:only-of-type {\n",
       "        vertical-align: middle;\n",
       "    }\n",
       "\n",
       "    .dataframe tbody tr th {\n",
       "        vertical-align: top;\n",
       "    }\n",
       "\n",
       "    .dataframe thead th {\n",
       "        text-align: right;\n",
       "    }\n",
       "</style>\n",
       "<table border=\"1\" class=\"dataframe\">\n",
       "  <thead>\n",
       "    <tr style=\"text-align: right;\">\n",
       "      <th></th>\n",
       "      <th>CHROM</th>\n",
       "      <th>POS</th>\n",
       "      <th>REF</th>\n",
       "      <th>ALT</th>\n",
       "      <th>GT</th>\n",
       "      <th>value</th>\n",
       "      <th>SNV</th>\n",
       "      <th>animal</th>\n",
       "      <th>PS</th>\n",
       "    </tr>\n",
       "  </thead>\n",
       "  <tbody>\n",
       "    <tr>\n",
       "      <th>0</th>\n",
       "      <td>NC_044976.1</td>\n",
       "      <td>194</td>\n",
       "      <td>C</td>\n",
       "      <td>T</td>\n",
       "      <td>ZT0.GT</td>\n",
       "      <td>./.</td>\n",
       "      <td>NC_044976.1:194</td>\n",
       "      <td>ZT0</td>\n",
       "      <td>NaN</td>\n",
       "    </tr>\n",
       "    <tr>\n",
       "      <th>1</th>\n",
       "      <td>NC_044976.1</td>\n",
       "      <td>204</td>\n",
       "      <td>T</td>\n",
       "      <td>A</td>\n",
       "      <td>ZT0.GT</td>\n",
       "      <td>T/A</td>\n",
       "      <td>NC_044976.1:204</td>\n",
       "      <td>ZT0</td>\n",
       "      <td>NaN</td>\n",
       "    </tr>\n",
       "  </tbody>\n",
       "</table>\n",
       "</div>"
      ],
      "text/plain": [
       "         CHROM  POS REF ALT      GT value              SNV animal  PS\n",
       "0  NC_044976.1  194   C   T  ZT0.GT   ./.  NC_044976.1:194    ZT0 NaN\n",
       "1  NC_044976.1  204   T   A  ZT0.GT   T/A  NC_044976.1:204    ZT0 NaN"
      ]
     },
     "execution_count": 7,
     "metadata": {},
     "output_type": "execute_result"
    }
   ],
   "source": [
    "gt.head(2)"
   ]
  },
  {
   "cell_type": "code",
   "execution_count": 8,
   "metadata": {
    "ExecuteTime": {
     "end_time": "2023-05-30T22:36:28.425876Z",
     "start_time": "2023-05-30T22:33:14.345463Z"
    },
    "collapsed": false
   },
   "outputs": [
    {
     "data": {
      "text/plain": [
       "(16118088, 5949068)"
      ]
     },
     "execution_count": 8,
     "metadata": {},
     "output_type": "execute_result"
    }
   ],
   "source": [
    "snvs = set(df['loci'].unique())\n",
    "gt['SNV'].nunique(), gt[gt['SNV'].isin(snvs)]['SNV'].nunique()"
   ]
  },
  {
   "cell_type": "code",
   "execution_count": 9,
   "metadata": {
    "ExecuteTime": {
     "end_time": "2023-05-30T22:42:16.527194Z",
     "start_time": "2023-05-30T22:36:29.359798Z"
    },
    "collapsed": false
   },
   "outputs": [
    {
     "data": {
      "application/vnd.jupyter.widget-view+json": {
       "model_id": "19d42844702d42f8a159da7a07e1a960",
       "version_major": 2,
       "version_minor": 0
      },
      "text/plain": [
       "  0%|          | 0/12 [00:00<?, ?it/s]"
      ]
     },
     "metadata": {},
     "output_type": "display_data"
    }
   ],
   "source": [
    "whatshap_dict = {}\n",
    "for animal in tqdm(gt['animal'].unique()):\n",
    "    whatshap_dict[animal] = gt[gt['animal'] == animal].set_index('SNV')[['value', 'PS']].to_dict()"
   ]
  },
  {
   "cell_type": "code",
   "execution_count": 10,
   "metadata": {
    "ExecuteTime": {
     "end_time": "2023-05-30T22:42:16.603948Z",
     "start_time": "2023-05-30T22:42:16.507763Z"
    },
    "collapsed": false
   },
   "outputs": [
    {
     "data": {
      "text/plain": [
       "dict_keys(['value', 'PS'])"
      ]
     },
     "execution_count": 10,
     "metadata": {},
     "output_type": "execute_result"
    }
   ],
   "source": [
    "whatshap_dict['ZT0'].keys()"
   ]
  },
  {
   "cell_type": "code",
   "execution_count": 10,
   "metadata": {
    "ExecuteTime": {
     "end_time": "2023-05-30T21:38:37.180714164Z",
     "start_time": "2023-05-30T21:38:37.138950086Z"
    },
    "collapsed": false
   },
   "outputs": [],
   "source": [
    "del gt"
   ]
  },
  {
   "cell_type": "code",
   "execution_count": 11,
   "metadata": {
    "ExecuteTime": {
     "end_time": "2023-05-30T22:50:20.457180Z",
     "start_time": "2023-05-30T22:42:16.565823Z"
    },
    "collapsed": false
   },
   "outputs": [
    {
     "data": {
      "application/vnd.jupyter.widget-view+json": {
       "model_id": "5c243489ab1f42cb8558c82f2bf6f795",
       "version_major": 2,
       "version_minor": 0
      },
      "text/plain": [
       "  0%|          | 0/46555541 [00:00<?, ?it/s]"
      ]
     },
     "metadata": {},
     "output_type": "display_data"
    }
   ],
   "source": [
    "df['whatshap_GT'] = df.progress_apply(lambda x: whatshap_dict[x['timepoint']]['value'][x['loci']] if x['loci'] in whatshap_dict[x['timepoint']]['value'] else np.nan, axis=1)"
   ]
  },
  {
   "cell_type": "code",
   "execution_count": 12,
   "metadata": {
    "ExecuteTime": {
     "end_time": "2023-05-30T22:58:35.472275Z",
     "start_time": "2023-05-30T22:50:20.458401Z"
    },
    "collapsed": false
   },
   "outputs": [
    {
     "data": {
      "application/vnd.jupyter.widget-view+json": {
       "model_id": "9b582f6092ba453cac23177241b6773d",
       "version_major": 2,
       "version_minor": 0
      },
      "text/plain": [
       "  0%|          | 0/46555541 [00:00<?, ?it/s]"
      ]
     },
     "metadata": {},
     "output_type": "display_data"
    }
   ],
   "source": [
    "df['whatshap_PS'] = df.progress_apply(lambda x: whatshap_dict[x['timepoint']]['PS'][x['loci']] if x['loci'] in whatshap_dict[x['timepoint']]['PS'] else np.nan, axis=1)"
   ]
  },
  {
   "cell_type": "code",
   "execution_count": 13,
   "metadata": {
    "ExecuteTime": {
     "end_time": "2023-05-30T22:58:35.474432Z",
     "start_time": "2023-05-30T22:58:35.471183Z"
    },
    "collapsed": false
   },
   "outputs": [
    {
     "data": {
      "text/html": [
       "<div>\n",
       "<style scoped>\n",
       "    .dataframe tbody tr th:only-of-type {\n",
       "        vertical-align: middle;\n",
       "    }\n",
       "\n",
       "    .dataframe tbody tr th {\n",
       "        vertical-align: top;\n",
       "    }\n",
       "\n",
       "    .dataframe thead th {\n",
       "        text-align: right;\n",
       "    }\n",
       "</style>\n",
       "<table border=\"1\" class=\"dataframe\">\n",
       "  <thead>\n",
       "    <tr style=\"text-align: right;\">\n",
       "      <th></th>\n",
       "      <th>tissue</th>\n",
       "      <th>timepoint</th>\n",
       "      <th>loci</th>\n",
       "      <th>refCount</th>\n",
       "      <th>altCount</th>\n",
       "      <th>totalCount</th>\n",
       "      <th>refBias</th>\n",
       "      <th>binomTest</th>\n",
       "      <th>fdr</th>\n",
       "      <th>REF</th>\n",
       "      <th>...</th>\n",
       "      <th>ai_cat</th>\n",
       "      <th>chrom</th>\n",
       "      <th>pos</th>\n",
       "      <th>SNV</th>\n",
       "      <th>genomic_retained</th>\n",
       "      <th>gene_id</th>\n",
       "      <th>TPM</th>\n",
       "      <th>region</th>\n",
       "      <th>whatshap_GT</th>\n",
       "      <th>whatshap_PS</th>\n",
       "    </tr>\n",
       "  </thead>\n",
       "  <tbody>\n",
       "    <tr>\n",
       "      <th>0</th>\n",
       "      <td>HIP</td>\n",
       "      <td>ZT0</td>\n",
       "      <td>NC_044976.1:204</td>\n",
       "      <td>1</td>\n",
       "      <td>17</td>\n",
       "      <td>18</td>\n",
       "      <td>0.055556</td>\n",
       "      <td>0.000145</td>\n",
       "      <td>0.012577</td>\n",
       "      <td>T</td>\n",
       "      <td>...</td>\n",
       "      <td>MA</td>\n",
       "      <td>1</td>\n",
       "      <td>204</td>\n",
       "      <td>1:204</td>\n",
       "      <td>dropped</td>\n",
       "      <td>None</td>\n",
       "      <td>NaN</td>\n",
       "      <td>Missing</td>\n",
       "      <td>T/A</td>\n",
       "      <td>NaN</td>\n",
       "    </tr>\n",
       "    <tr>\n",
       "      <th>1</th>\n",
       "      <td>HIP</td>\n",
       "      <td>ZT0</td>\n",
       "      <td>NC_044976.1:4126</td>\n",
       "      <td>1</td>\n",
       "      <td>0</td>\n",
       "      <td>1</td>\n",
       "      <td>1.000000</td>\n",
       "      <td>1.000000</td>\n",
       "      <td>1.000000</td>\n",
       "      <td>G</td>\n",
       "      <td>...</td>\n",
       "      <td>LT5_reads</td>\n",
       "      <td>1</td>\n",
       "      <td>4126</td>\n",
       "      <td>1:4126</td>\n",
       "      <td>dropped</td>\n",
       "      <td>None</td>\n",
       "      <td>NaN</td>\n",
       "      <td>Missing</td>\n",
       "      <td>A|G</td>\n",
       "      <td>204.0</td>\n",
       "    </tr>\n",
       "  </tbody>\n",
       "</table>\n",
       "<p>2 rows × 34 columns</p>\n",
       "</div>"
      ],
      "text/plain": [
       "  tissue timepoint              loci  refCount  altCount  totalCount  \\\n",
       "0    HIP       ZT0   NC_044976.1:204         1        17          18   \n",
       "1    HIP       ZT0  NC_044976.1:4126         1         0           1   \n",
       "\n",
       "    refBias  binomTest       fdr REF  ...     ai_cat chrom   pos     SNV  \\\n",
       "0  0.055556   0.000145  0.012577   T  ...         MA     1   204   1:204   \n",
       "1  1.000000   1.000000  1.000000   G  ...  LT5_reads     1  4126  1:4126   \n",
       "\n",
       "  genomic_retained gene_id TPM   region whatshap_GT whatshap_PS  \n",
       "0          dropped    None NaN  Missing         T/A         NaN  \n",
       "1          dropped    None NaN  Missing         A|G       204.0  \n",
       "\n",
       "[2 rows x 34 columns]"
      ]
     },
     "execution_count": 13,
     "metadata": {},
     "output_type": "execute_result"
    }
   ],
   "source": [
    "df.head(2)"
   ]
  },
  {
   "cell_type": "code",
   "execution_count": 14,
   "metadata": {
    "ExecuteTime": {
     "end_time": "2023-05-30T23:00:24.989736Z",
     "start_time": "2023-05-30T22:59:05.345669Z"
    },
    "collapsed": false
   },
   "outputs": [],
   "source": [
    "df.to_parquet(\"./data_files/concatenated_data/gatk_all_samples_concatenated_annt_added_multiline_dupes_dropped_phase_added_with_TPM_and_genomic_data_with_whatshap_phase_data.parquet\")"
   ]
  },
  {
   "cell_type": "code",
   "execution_count": null,
   "metadata": {
    "collapsed": false
   },
   "outputs": [],
   "source": []
  }
 ],
 "metadata": {
  "kernelspec": {
   "display_name": "Python 3",
   "language": "python",
   "name": "python3"
  },
  "language_info": {
   "codemirror_mode": {
    "name": "ipython",
    "version": 2
   },
   "file_extension": ".py",
   "mimetype": "text/x-python",
   "name": "python",
   "nbconvert_exporter": "python",
   "pygments_lexer": "ipython2",
   "version": "2.7.6"
  }
 },
 "nbformat": 4,
 "nbformat_minor": 0
}
